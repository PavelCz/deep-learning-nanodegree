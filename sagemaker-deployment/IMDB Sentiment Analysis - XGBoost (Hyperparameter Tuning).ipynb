{
 "cells": [
  {
   "cell_type": "markdown",
   "metadata": {},
   "source": [
    "# Sentiment Analysis\n",
    "\n",
    "## Using XGBoost in SageMaker\n",
    "\n",
    "_Deep Learning Nanodegree Program | Deployment_\n",
    "\n",
    "---\n",
    "\n",
    "In this example of using Amazon's SageMaker service we will construct a random tree model to predict the sentiment of a movie review. You may have seen a version of this example in a pervious lesson although it would have been done using the sklearn package. Instead, we will be using the XGBoost package as it is provided to us by Amazon.\n",
    "\n",
    "## Instructions\n",
    "\n",
    "Some template code has already been provided for you, and you will need to implement additional functionality to successfully complete this notebook. You will not need to modify the included code beyond what is requested. Sections that begin with '**TODO**' in the header indicate that you need to complete or implement some portion within them. Instructions will be provided for each section and the specifics of the implementation are marked in the code block with a `# TODO: ...` comment. Please be sure to read the instructions carefully!\n",
    "\n",
    "In addition to implementing code, there will be questions for you to answer which relate to the task and your implementation. Each section where you will answer a question is preceded by a '**Question:**' header. Carefully read each question and provide your answer below the '**Answer:**' header by editing the Markdown cell.\n",
    "\n",
    "> **Note**: Code and Markdown cells can be executed using the **Shift+Enter** keyboard shortcut. In addition, a cell can be edited by typically clicking it (double-click for Markdown cells) or by pressing **Enter** while it is highlighted."
   ]
  },
  {
   "cell_type": "markdown",
   "metadata": {},
   "source": [
    "## Step 1: Downloading the data\n",
    "\n",
    "The dataset we are going to use is very popular among researchers in Natural Language Processing, usually referred to as the [IMDb dataset](http://ai.stanford.edu/~amaas/data/sentiment/). It consists of movie reviews from the website [imdb.com](http://www.imdb.com/), each labeled as either '**pos**itive', if the reviewer enjoyed the film, or '**neg**ative' otherwise.\n",
    "\n",
    "> Maas, Andrew L., et al. [Learning Word Vectors for Sentiment Analysis](http://ai.stanford.edu/~amaas/data/sentiment/). In _Proceedings of the 49th Annual Meeting of the Association for Computational Linguistics: Human Language Technologies_. Association for Computational Linguistics, 2011.\n",
    "\n",
    "We begin by using some Jupyter Notebook magic to download and extract the dataset."
   ]
  },
  {
   "cell_type": "code",
   "execution_count": 1,
   "metadata": {},
   "outputs": [
    {
     "name": "stdout",
     "output_type": "stream",
     "text": [
      "mkdir: cannot create directory ‘../data’: File exists\n",
      "--2020-09-08 15:10:36--  http://ai.stanford.edu/~amaas/data/sentiment/aclImdb_v1.tar.gz\n",
      "Resolving ai.stanford.edu (ai.stanford.edu)... 171.64.68.10\n",
      "Connecting to ai.stanford.edu (ai.stanford.edu)|171.64.68.10|:80... connected.\n",
      "HTTP request sent, awaiting response... 200 OK\n",
      "Length: 84125825 (80M) [application/x-gzip]\n",
      "Saving to: ‘../data/aclImdb_v1.tar.gz’\n",
      "\n",
      "../data/aclImdb_v1. 100%[===================>]  80.23M  10.0MB/s    in 9.9s    \n",
      "\n",
      "2020-09-08 15:10:46 (8.08 MB/s) - ‘../data/aclImdb_v1.tar.gz’ saved [84125825/84125825]\n",
      "\n"
     ]
    }
   ],
   "source": [
    "%mkdir ../data\n",
    "!wget -O ../data/aclImdb_v1.tar.gz http://ai.stanford.edu/~amaas/data/sentiment/aclImdb_v1.tar.gz\n",
    "!tar -zxf ../data/aclImdb_v1.tar.gz -C ../data"
   ]
  },
  {
   "cell_type": "markdown",
   "metadata": {},
   "source": [
    "## Step 2: Preparing the data\n",
    "\n",
    "The data we have downloaded is split into various files, each of which contains a single review. It will be much easier going forward if we combine these individual files into two large files, one for training and one for testing."
   ]
  },
  {
   "cell_type": "code",
   "execution_count": 2,
   "metadata": {},
   "outputs": [],
   "source": [
    "import os\n",
    "import glob\n",
    "\n",
    "def read_imdb_data(data_dir='../data/aclImdb'):\n",
    "    data = {}\n",
    "    labels = {}\n",
    "    \n",
    "    for data_type in ['train', 'test']:\n",
    "        data[data_type] = {}\n",
    "        labels[data_type] = {}\n",
    "        \n",
    "        for sentiment in ['pos', 'neg']:\n",
    "            data[data_type][sentiment] = []\n",
    "            labels[data_type][sentiment] = []\n",
    "            \n",
    "            path = os.path.join(data_dir, data_type, sentiment, '*.txt')\n",
    "            files = glob.glob(path)\n",
    "            \n",
    "            for f in files:\n",
    "                with open(f) as review:\n",
    "                    data[data_type][sentiment].append(review.read())\n",
    "                    # Here we represent a positive review by '1' and a negative review by '0'\n",
    "                    labels[data_type][sentiment].append(1 if sentiment == 'pos' else 0)\n",
    "                    \n",
    "            assert len(data[data_type][sentiment]) == len(labels[data_type][sentiment]), \\\n",
    "                    \"{}/{} data size does not match labels size\".format(data_type, sentiment)\n",
    "                \n",
    "    return data, labels"
   ]
  },
  {
   "cell_type": "code",
   "execution_count": 3,
   "metadata": {},
   "outputs": [
    {
     "name": "stdout",
     "output_type": "stream",
     "text": [
      "IMDB reviews: train = 12500 pos / 12500 neg, test = 12500 pos / 12500 neg\n"
     ]
    }
   ],
   "source": [
    "data, labels = read_imdb_data()\n",
    "print(\"IMDB reviews: train = {} pos / {} neg, test = {} pos / {} neg\".format(\n",
    "            len(data['train']['pos']), len(data['train']['neg']),\n",
    "            len(data['test']['pos']), len(data['test']['neg'])))"
   ]
  },
  {
   "cell_type": "code",
   "execution_count": 4,
   "metadata": {},
   "outputs": [],
   "source": [
    "from sklearn.utils import shuffle\n",
    "\n",
    "def prepare_imdb_data(data, labels):\n",
    "    \"\"\"Prepare training and test sets from IMDb movie reviews.\"\"\"\n",
    "    \n",
    "    #Combine positive and negative reviews and labels\n",
    "    data_train = data['train']['pos'] + data['train']['neg']\n",
    "    data_test = data['test']['pos'] + data['test']['neg']\n",
    "    labels_train = labels['train']['pos'] + labels['train']['neg']\n",
    "    labels_test = labels['test']['pos'] + labels['test']['neg']\n",
    "    \n",
    "    #Shuffle reviews and corresponding labels within training and test sets\n",
    "    data_train, labels_train = shuffle(data_train, labels_train)\n",
    "    data_test, labels_test = shuffle(data_test, labels_test)\n",
    "    \n",
    "    # Return a unified training data, test data, training labels, test labets\n",
    "    return data_train, data_test, labels_train, labels_test"
   ]
  },
  {
   "cell_type": "code",
   "execution_count": 5,
   "metadata": {},
   "outputs": [
    {
     "name": "stdout",
     "output_type": "stream",
     "text": [
      "IMDb reviews (combined): train = 25000, test = 25000\n"
     ]
    }
   ],
   "source": [
    "train_X, test_X, train_y, test_y = prepare_imdb_data(data, labels)\n",
    "print(\"IMDb reviews (combined): train = {}, test = {}\".format(len(train_X), len(test_X)))"
   ]
  },
  {
   "cell_type": "code",
   "execution_count": 6,
   "metadata": {},
   "outputs": [
    {
     "data": {
      "text/plain": [
       "'Standard procedure for Swedish movies today seem to be to start by throwing plausibility out the window and continue down that path for the rest of the process. Rånarna is another fine example of a movie making very little sense.<br /><br />Banks in Stockholm are being robbed by a highly efficient \"military-styled\" gang of robbers. Two police officers start investigating the case that soon becomes more complicated than it would appear at first.<br /><br />As usual in Swedish film the cast is mostly made up of the same people you have seen over and over again. Mikael Persbrandt must be in every Swedish film from the last few years! But that\\'s OK i guess since Persbrandt is one of few that performs solidly here (like he usually does). The problems with this film mostly revolves around the story itself. First of all the robberies feel mostly like background. Rather this is more a movie about a young policewoman fighting to prove herself in a male world (like that has not been made a thousand times before with a decent actress instead of Sofia Helin). Also there is a completely unbelievable plot twist near the end that seems about as plausible as Aliens landing. But still, i did think it was a quite nice touch considering i was half asleep right about then. It spiced things up a bit (and actually saved the rating from dropping another step).<br /><br />In the end the main problem is the same thing as with most other Swedish movies of this kind. Simply that the action and suspense doesn\\'t live up to the standards we are used to from other movies of this kind (mostly Hollywood). It feels cheap and rather weak in comparison. In my opinion Swedish filmmakers should try to focus more on plot and acting, and forget about trying to make \"Hollywood-action light\" like they do now. Because this becomes yet another forgettable effort from the Swedish movie-industry. I rate it 3/10.'"
      ]
     },
     "execution_count": 6,
     "metadata": {},
     "output_type": "execute_result"
    }
   ],
   "source": [
    "train_X[100]"
   ]
  },
  {
   "cell_type": "markdown",
   "metadata": {},
   "source": [
    "## Step 3: Processing the data\n",
    "\n",
    "Now that we have our training and testing datasets merged and ready to use, we need to start processing the raw data into something that will be useable by our machine learning algorithm. To begin with, we remove any html formatting that may appear in the reviews and perform some standard natural language processing in order to homogenize the data."
   ]
  },
  {
   "cell_type": "code",
   "execution_count": 7,
   "metadata": {},
   "outputs": [
    {
     "name": "stderr",
     "output_type": "stream",
     "text": [
      "[nltk_data] Downloading package stopwords to\n",
      "[nltk_data]     /home/ec2-user/nltk_data...\n",
      "[nltk_data]   Package stopwords is already up-to-date!\n"
     ]
    }
   ],
   "source": [
    "import nltk\n",
    "nltk.download(\"stopwords\")\n",
    "from nltk.corpus import stopwords\n",
    "from nltk.stem.porter import *\n",
    "stemmer = PorterStemmer()"
   ]
  },
  {
   "cell_type": "code",
   "execution_count": 8,
   "metadata": {},
   "outputs": [],
   "source": [
    "import re\n",
    "from bs4 import BeautifulSoup\n",
    "\n",
    "def review_to_words(review):\n",
    "    text = BeautifulSoup(review, \"html.parser\").get_text() # Remove HTML tags\n",
    "    text = re.sub(r\"[^a-zA-Z0-9]\", \" \", text.lower()) # Convert to lower case\n",
    "    words = text.split() # Split string into words\n",
    "    words = [w for w in words if w not in stopwords.words(\"english\")] # Remove stopwords\n",
    "    words = [PorterStemmer().stem(w) for w in words] # stem\n",
    "    \n",
    "    return words"
   ]
  },
  {
   "cell_type": "code",
   "execution_count": 9,
   "metadata": {},
   "outputs": [],
   "source": [
    "import pickle\n",
    "\n",
    "cache_dir = os.path.join(\"../cache\", \"sentiment_analysis\")  # where to store cache files\n",
    "os.makedirs(cache_dir, exist_ok=True)  # ensure cache directory exists\n",
    "\n",
    "def preprocess_data(data_train, data_test, labels_train, labels_test,\n",
    "                    cache_dir=cache_dir, cache_file=\"preprocessed_data.pkl\"):\n",
    "    \"\"\"Convert each review to words; read from cache if available.\"\"\"\n",
    "\n",
    "    # If cache_file is not None, try to read from it first\n",
    "    cache_data = None\n",
    "    if cache_file is not None:\n",
    "        try:\n",
    "            with open(os.path.join(cache_dir, cache_file), \"rb\") as f:\n",
    "                cache_data = pickle.load(f)\n",
    "            print(\"Read preprocessed data from cache file:\", cache_file)\n",
    "        except:\n",
    "            pass  # unable to read from cache, but that's okay\n",
    "    \n",
    "    # If cache is missing, then do the heavy lifting\n",
    "    if cache_data is None:\n",
    "        # Preprocess training and test data to obtain words for each review\n",
    "        #words_train = list(map(review_to_words, data_train))\n",
    "        #words_test = list(map(review_to_words, data_test))\n",
    "        words_train = [review_to_words(review) for review in data_train]\n",
    "        words_test = [review_to_words(review) for review in data_test]\n",
    "        \n",
    "        # Write to cache file for future runs\n",
    "        if cache_file is not None:\n",
    "            cache_data = dict(words_train=words_train, words_test=words_test,\n",
    "                              labels_train=labels_train, labels_test=labels_test)\n",
    "            with open(os.path.join(cache_dir, cache_file), \"wb\") as f:\n",
    "                pickle.dump(cache_data, f)\n",
    "            print(\"Wrote preprocessed data to cache file:\", cache_file)\n",
    "    else:\n",
    "        # Unpack data loaded from cache file\n",
    "        words_train, words_test, labels_train, labels_test = (cache_data['words_train'],\n",
    "                cache_data['words_test'], cache_data['labels_train'], cache_data['labels_test'])\n",
    "    \n",
    "    return words_train, words_test, labels_train, labels_test"
   ]
  },
  {
   "cell_type": "code",
   "execution_count": 10,
   "metadata": {},
   "outputs": [
    {
     "name": "stdout",
     "output_type": "stream",
     "text": [
      "Read preprocessed data from cache file: preprocessed_data.pkl\n"
     ]
    }
   ],
   "source": [
    "# Preprocess data\n",
    "train_X, test_X, train_y, test_y = preprocess_data(train_X, test_X, train_y, test_y)"
   ]
  },
  {
   "cell_type": "markdown",
   "metadata": {},
   "source": [
    "### Extract Bag-of-Words features\n",
    "\n",
    "For the model we will be implementing, rather than using the reviews directly, we are going to transform each review into a Bag-of-Words feature representation. Keep in mind that 'in the wild' we will only have access to the training set so our transformer can only use the training set to construct a representation."
   ]
  },
  {
   "cell_type": "code",
   "execution_count": 11,
   "metadata": {},
   "outputs": [],
   "source": [
    "import numpy as np\n",
    "from sklearn.feature_extraction.text import CountVectorizer\n",
    "import joblib\n",
    "# joblib is an enhanced version of pickle that is more efficient for storing NumPy arrays\n",
    "\n",
    "def extract_BoW_features(words_train, words_test, vocabulary_size=5000,\n",
    "                         cache_dir=cache_dir, cache_file=\"bow_features.pkl\"):\n",
    "    \"\"\"Extract Bag-of-Words for a given set of documents, already preprocessed into words.\"\"\"\n",
    "    \n",
    "    # If cache_file is not None, try to read from it first\n",
    "    cache_data = None\n",
    "    if cache_file is not None:\n",
    "        try:\n",
    "            with open(os.path.join(cache_dir, cache_file), \"rb\") as f:\n",
    "                cache_data = joblib.load(f)\n",
    "            print(\"Read features from cache file:\", cache_file)\n",
    "        except:\n",
    "            pass  # unable to read from cache, but that's okay\n",
    "    \n",
    "    # If cache is missing, then do the heavy lifting\n",
    "    if cache_data is None:\n",
    "        # Fit a vectorizer to training documents and use it to transform them\n",
    "        # NOTE: Training documents have already been preprocessed and tokenized into words;\n",
    "        #       pass in dummy functions to skip those steps, e.g. preprocessor=lambda x: x\n",
    "        vectorizer = CountVectorizer(max_features=vocabulary_size,\n",
    "                preprocessor=lambda x: x, tokenizer=lambda x: x)  # already preprocessed\n",
    "        features_train = vectorizer.fit_transform(words_train).toarray()\n",
    "\n",
    "        # Apply the same vectorizer to transform the test documents (ignore unknown words)\n",
    "        features_test = vectorizer.transform(words_test).toarray()\n",
    "        \n",
    "        # NOTE: Remember to convert the features using .toarray() for a compact representation\n",
    "        \n",
    "        # Write to cache file for future runs (store vocabulary as well)\n",
    "        if cache_file is not None:\n",
    "            vocabulary = vectorizer.vocabulary_\n",
    "            cache_data = dict(features_train=features_train, features_test=features_test,\n",
    "                             vocabulary=vocabulary)\n",
    "            with open(os.path.join(cache_dir, cache_file), \"wb\") as f:\n",
    "                joblib.dump(cache_data, f)\n",
    "            print(\"Wrote features to cache file:\", cache_file)\n",
    "    else:\n",
    "        # Unpack data loaded from cache file\n",
    "        features_train, features_test, vocabulary = (cache_data['features_train'],\n",
    "                cache_data['features_test'], cache_data['vocabulary'])\n",
    "    \n",
    "    # Return both the extracted features as well as the vocabulary\n",
    "    return features_train, features_test, vocabulary"
   ]
  },
  {
   "cell_type": "code",
   "execution_count": 12,
   "metadata": {},
   "outputs": [
    {
     "name": "stdout",
     "output_type": "stream",
     "text": [
      "Read features from cache file: bow_features.pkl\n"
     ]
    }
   ],
   "source": [
    "# Extract Bag of Words features for both training and test datasets\n",
    "train_X, test_X, vocabulary = extract_BoW_features(train_X, test_X)"
   ]
  },
  {
   "cell_type": "markdown",
   "metadata": {},
   "source": [
    "## Step 4: Classification using XGBoost\n",
    "\n",
    "Now that we have created the feature representation of our training (and testing) data, it is time to start setting up and using the XGBoost classifier provided by SageMaker.\n",
    "\n",
    "### Writing the dataset\n",
    "\n",
    "The XGBoost classifier that we will be using requires the dataset to be written to a file and stored using Amazon S3. To do this, we will start by splitting the training dataset into two parts, the data we will train the model with and a validation set. Then, we will write those datasets to a file and upload the files to S3. In addition, we will write the test set input to a file and upload the file to S3. This is so that we can use SageMakers Batch Transform functionality to test our model once we've fit it."
   ]
  },
  {
   "cell_type": "code",
   "execution_count": 13,
   "metadata": {},
   "outputs": [],
   "source": [
    "import pandas as pd\n",
    "\n",
    "val_X = pd.DataFrame(train_X[:10000])\n",
    "train_X = pd.DataFrame(train_X[10000:])\n",
    "\n",
    "val_y = pd.DataFrame(train_y[:10000])\n",
    "train_y = pd.DataFrame(train_y[10000:])\n",
    "\n",
    "test_y = pd.DataFrame(test_y)\n",
    "test_X = pd.DataFrame(test_X)"
   ]
  },
  {
   "cell_type": "markdown",
   "metadata": {},
   "source": [
    "The documentation for the XGBoost algorithm in SageMaker requires that the saved datasets should contain no headers or index and that for the training and validation data, the label should occur first for each sample.\n",
    "\n",
    "For more information about this and other algorithms, the SageMaker developer documentation can be found on __[Amazon's website.](https://docs.aws.amazon.com/sagemaker/latest/dg/)__"
   ]
  },
  {
   "cell_type": "code",
   "execution_count": 14,
   "metadata": {},
   "outputs": [],
   "source": [
    "# First we make sure that the local directory in which we'd like to store the training and validation csv files exists.\n",
    "data_dir = '../data/xgboost'\n",
    "if not os.path.exists(data_dir):\n",
    "    os.makedirs(data_dir)"
   ]
  },
  {
   "cell_type": "code",
   "execution_count": 15,
   "metadata": {},
   "outputs": [],
   "source": [
    "# First, save the test data to test.csv in the data_dir directory. Note that we do not save the associated ground truth\n",
    "# labels, instead we will use them later to compare with our model output.\n",
    "\n",
    "test_X.to_csv(os.path.join(data_dir, 'test.csv'), header=False, index=False)\n",
    "pd.concat([val_y, val_X], axis=1).to_csv(os.path.join(data_dir, 'validation.csv'), header=False, index=False)\n",
    "pd.concat([train_y, train_X], axis=1).to_csv(os.path.join(data_dir, 'train.csv'), header=False, index=False)"
   ]
  },
  {
   "cell_type": "code",
   "execution_count": 16,
   "metadata": {},
   "outputs": [],
   "source": [
    "# To save a bit of memory we can set text_X, train_X, val_X, train_y and val_y to None.\n",
    "\n",
    "train_X = val_X = train_y = val_y = None"
   ]
  },
  {
   "cell_type": "markdown",
   "metadata": {},
   "source": [
    "### Uploading Training / Validation files to S3\n",
    "\n",
    "Amazon's S3 service allows us to store files that can be access by both the built-in training models such as the XGBoost model we will be using as well as custom models such as the one we will see a little later.\n",
    "\n",
    "For this, and most other tasks we will be doing using SageMaker, there are two methods we could use. The first is to use the low level functionality of SageMaker which requires knowing each of the objects involved in the SageMaker environment. The second is to use the high level functionality in which certain choices have been made on the user's behalf. The low level approach benefits from allowing the user a great deal of flexibility while the high level approach makes development much quicker. For our purposes we will opt to use the high level approach although using the low-level approach is certainly an option.\n",
    "\n",
    "Recall the method `upload_data()` which is a member of object representing our current SageMaker session. What this method does is upload the data to the default bucket (which is created if it does not exist) into the path described by the key_prefix variable. To see this for yourself, once you have uploaded the data files, go to the S3 console and look to see where the files have been uploaded.\n",
    "\n",
    "For additional resources, see the __[SageMaker API documentation](http://sagemaker.readthedocs.io/en/latest/)__ and in addition the __[SageMaker Developer Guide.](https://docs.aws.amazon.com/sagemaker/latest/dg/)__"
   ]
  },
  {
   "cell_type": "code",
   "execution_count": 17,
   "metadata": {},
   "outputs": [],
   "source": [
    "import sagemaker\n",
    "\n",
    "session = sagemaker.Session() # Store the current SageMaker session\n",
    "\n",
    "# S3 prefix (which folder will we use)\n",
    "prefix = 'sentiment-xgboost'\n",
    "\n",
    "test_location = session.upload_data(os.path.join(data_dir, 'test.csv'), key_prefix=prefix)\n",
    "val_location = session.upload_data(os.path.join(data_dir, 'validation.csv'), key_prefix=prefix)\n",
    "train_location = session.upload_data(os.path.join(data_dir, 'train.csv'), key_prefix=prefix)"
   ]
  },
  {
   "cell_type": "markdown",
   "metadata": {},
   "source": [
    "### (TODO) Creating a hypertuned XGBoost model\n",
    "\n",
    "Now that the data has been uploaded it is time to create the XGBoost model. As in the Boston Housing notebook, the first step is to create an estimator object which will be used as the *base* of your hyperparameter tuning job."
   ]
  },
  {
   "cell_type": "code",
   "execution_count": 18,
   "metadata": {},
   "outputs": [],
   "source": [
    "from sagemaker import get_execution_role\n",
    "\n",
    "# Our current execution role is require when creating the model as the training\n",
    "# and inference code will need to access the model artifacts.\n",
    "role = get_execution_role()"
   ]
  },
  {
   "cell_type": "code",
   "execution_count": 19,
   "metadata": {},
   "outputs": [
    {
     "name": "stderr",
     "output_type": "stream",
     "text": [
      "'get_image_uri' method will be deprecated in favor of 'ImageURIProvider' class in SageMaker Python SDK v2.\n",
      "There is a more up to date SageMaker XGBoost image. To use the newer image, please set 'repo_version'='1.0-1'. For example:\n",
      "\tget_image_uri(region, 'xgboost', '1.0-1').\n"
     ]
    }
   ],
   "source": [
    "# We need to retrieve the location of the container which is provided by Amazon for using XGBoost.\n",
    "# As a matter of convenience, the training and inference code both use the same container.\n",
    "from sagemaker.amazon.amazon_estimator import get_image_uri\n",
    "\n",
    "container = get_image_uri(session.boto_region_name, 'xgboost')"
   ]
  },
  {
   "cell_type": "code",
   "execution_count": 20,
   "metadata": {},
   "outputs": [
    {
     "name": "stderr",
     "output_type": "stream",
     "text": [
      "Parameter image_name will be renamed to image_uri in SageMaker Python SDK v2.\n"
     ]
    }
   ],
   "source": [
    "# TODO: Create a SageMaker estimator using the container location determined in the previous cell.\n",
    "#       It is recommended that you use a single training instance of type ml.m4.xlarge. It is also\n",
    "#       recommended that you use 's3://{}/{}/output'.format(session.default_bucket(), prefix) as the\n",
    "#       output path.\n",
    "\n",
    "# Now that we know which container to use, we can construct the estimator object.\n",
    "xgb = sagemaker.estimator.Estimator(container, # The name of the training container\n",
    "                                    role,      # The IAM role to use (our current role in this case)\n",
    "                                    train_instance_count=1, # The number of instances to use for training\n",
    "                                    train_instance_type='ml.m4.xlarge', # The type of instance ot use for training\n",
    "                                    output_path='s3://{}/{}/output'.format(session.default_bucket(), prefix),\n",
    "                                                                        # Where to save the output (the model artifacts)\n",
    "                                    sagemaker_session=session) # The current SageMaker session\n",
    "\n",
    "# TODO: Set the XGBoost hyperparameters in the xgb object. Don't forget that in this case we have a binary\n",
    "#       label so we should be using the 'binary:logistic' objective.\n",
    "\n",
    "xgb.set_hyperparameters(max_depth=5,\n",
    "                        eta=0.2,\n",
    "                        gamma=4,\n",
    "                        min_child_weight=6,\n",
    "                        subsample=0.8,\n",
    "                        objective='binary:logistic',\n",
    "                        early_stopping_rounds=10,\n",
    "                        num_round=200)"
   ]
  },
  {
   "cell_type": "markdown",
   "metadata": {},
   "source": [
    "### (TODO) Create the hyperparameter tuner\n",
    "\n",
    "Now that the base estimator has been set up we need to construct a hyperparameter tuner object which we will use to request SageMaker construct a hyperparameter tuning job.\n",
    "\n",
    "**Note:** Training a single sentiment analysis XGBoost model takes longer than training a Boston Housing XGBoost model so if you don't want the hyperparameter tuning job to take too long, make sure to not set the total number of models (jobs) too high."
   ]
  },
  {
   "cell_type": "code",
   "execution_count": 21,
   "metadata": {},
   "outputs": [],
   "source": [
    "# First, make sure to import the relevant objects used to construct the tuner\n",
    "from sagemaker.tuner import IntegerParameter, ContinuousParameter, HyperparameterTuner\n",
    "\n",
    "# TODO: Create the hyperparameter tuner object\n",
    "\n",
    "xgb_hyperparameter_tuner = HyperparameterTuner(estimator = xgb, # The estimator object to use as the basis for the training jobs.\n",
    "                                               objective_metric_name = 'validation:rmse', # The metric used to compare trained models.\n",
    "                                               objective_type = 'Minimize', # Whether we wish to minimize or maximize the metric.\n",
    "                                               max_jobs = 5, # The total number of models to train\n",
    "                                               max_parallel_jobs = 3, # The number of models to train in parallel\n",
    "                                               hyperparameter_ranges = {\n",
    "                                                    'max_depth': IntegerParameter(3, 12),\n",
    "                                                    'eta'      : ContinuousParameter(0.05, 0.5),\n",
    "                                                    'min_child_weight': IntegerParameter(2, 8),\n",
    "                                                    'subsample': ContinuousParameter(0.5, 0.9),\n",
    "                                                    'gamma': ContinuousParameter(0, 10),\n",
    "                                               })\n"
   ]
  },
  {
   "cell_type": "markdown",
   "metadata": {},
   "source": [
    "### Fit the hyperparameter tuner\n",
    "\n",
    "Now that the hyperparameter tuner object has been constructed, it is time to fit the various models and find the best performing model."
   ]
  },
  {
   "cell_type": "code",
   "execution_count": 22,
   "metadata": {},
   "outputs": [
    {
     "name": "stderr",
     "output_type": "stream",
     "text": [
      "'s3_input' class will be renamed to 'TrainingInput' in SageMaker Python SDK v2.\n",
      "'s3_input' class will be renamed to 'TrainingInput' in SageMaker Python SDK v2.\n"
     ]
    }
   ],
   "source": [
    "s3_input_train = sagemaker.s3_input(s3_data=train_location, content_type='csv')\n",
    "s3_input_validation = sagemaker.s3_input(s3_data=val_location, content_type='csv')"
   ]
  },
  {
   "cell_type": "code",
   "execution_count": 23,
   "metadata": {},
   "outputs": [],
   "source": [
    "xgb_hyperparameter_tuner.fit({'train': s3_input_train, 'validation': s3_input_validation})"
   ]
  },
  {
   "cell_type": "markdown",
   "metadata": {},
   "source": [
    "Remember that the tuning job is constructed and run in the background so if we want to see the progress of our training job we need to call the `wait()` method."
   ]
  },
  {
   "cell_type": "code",
   "execution_count": 24,
   "metadata": {},
   "outputs": [
    {
     "name": "stdout",
     "output_type": "stream",
     "text": [
      ".............................................................................................................................................................................................................................!\n"
     ]
    }
   ],
   "source": [
    "xgb_hyperparameter_tuner.wait()"
   ]
  },
  {
   "cell_type": "markdown",
   "metadata": {},
   "source": [
    "### (TODO) Testing the model\n",
    "\n",
    "Now that we've run our hyperparameter tuning job, it's time to see how well the best performing model actually performs. To do this we will use SageMaker's Batch Transform functionality. Batch Transform is a convenient way to perform inference on a large dataset in a way that is not realtime. That is, we don't necessarily need to use our model's results immediately and instead we can peform inference on a large number of samples. An example of this in industry might be peforming an end of month report. This method of inference can also be useful to us as it means to can perform inference on our entire test set. \n",
    "\n",
    "Remember that in order to create a transformer object to perform the batch transform job, we need a trained estimator object. We can do that using the `attach()` method, creating an estimator object which is attached to the best trained job."
   ]
  },
  {
   "cell_type": "code",
   "execution_count": 25,
   "metadata": {},
   "outputs": [
    {
     "name": "stderr",
     "output_type": "stream",
     "text": [
      "Parameter image_name will be renamed to image_uri in SageMaker Python SDK v2.\n"
     ]
    },
    {
     "name": "stdout",
     "output_type": "stream",
     "text": [
      "2020-09-08 15:28:44 Starting - Preparing the instances for training\n",
      "2020-09-08 15:28:44 Downloading - Downloading input data\n",
      "2020-09-08 15:28:44 Training - Training image download completed. Training in progress.\n",
      "2020-09-08 15:28:44 Uploading - Uploading generated training model\n",
      "2020-09-08 15:28:44 Completed - Training job completed\u001b[34mArguments: train\u001b[0m\n",
      "\u001b[34m[2020-09-08:15:20:57:INFO] Running standalone xgboost training.\u001b[0m\n",
      "\u001b[34m[2020-09-08:15:20:57:INFO] Setting up HPO optimized metric to be : rmse\u001b[0m\n",
      "\u001b[34m[2020-09-08:15:20:57:INFO] File size need to be processed in the node: 238.47mb. Available memory size in the node: 8488.84mb\u001b[0m\n",
      "\u001b[34m[2020-09-08:15:20:57:INFO] Determined delimiter of CSV input is ','\u001b[0m\n",
      "\u001b[34m[15:20:57] S3DistributionType set as FullyReplicated\u001b[0m\n",
      "\u001b[34m[15:20:59] 15000x5000 matrix with 75000000 entries loaded from /opt/ml/input/data/train?format=csv&label_column=0&delimiter=,\u001b[0m\n",
      "\u001b[34m[2020-09-08:15:20:59:INFO] Determined delimiter of CSV input is ','\u001b[0m\n",
      "\u001b[34m[15:20:59] S3DistributionType set as FullyReplicated\u001b[0m\n",
      "\u001b[34m[15:21:00] 10000x5000 matrix with 50000000 entries loaded from /opt/ml/input/data/validation?format=csv&label_column=0&delimiter=,\u001b[0m\n",
      "\u001b[34m[15:21:05] src/tree/updater_prune.cc:74: tree pruning end, 1 roots, 88 extra nodes, 22 pruned nodes, max_depth=8\u001b[0m\n",
      "\u001b[34m[0]#011train-rmse:0.474763#011validation-rmse:0.475571\u001b[0m\n",
      "\u001b[34mMultiple eval metrics have been passed: 'validation-rmse' will be used for early stopping.\n",
      "\u001b[0m\n",
      "\u001b[34mWill train until validation-rmse hasn't improved in 10 rounds.\u001b[0m\n",
      "\u001b[34m[15:21:07] src/tree/updater_prune.cc:74: tree pruning end, 1 roots, 98 extra nodes, 14 pruned nodes, max_depth=8\u001b[0m\n",
      "\u001b[34m[1]#011train-rmse:0.456693#011validation-rmse:0.458277\u001b[0m\n",
      "\u001b[34m[15:21:10] src/tree/updater_prune.cc:74: tree pruning end, 1 roots, 76 extra nodes, 12 pruned nodes, max_depth=8\u001b[0m\n",
      "\u001b[34m[2]#011train-rmse:0.443106#011validation-rmse:0.444878\u001b[0m\n",
      "\u001b[34m[15:21:12] src/tree/updater_prune.cc:74: tree pruning end, 1 roots, 70 extra nodes, 22 pruned nodes, max_depth=8\u001b[0m\n",
      "\u001b[34m[3]#011train-rmse:0.432443#011validation-rmse:0.435234\u001b[0m\n",
      "\u001b[34m[15:21:14] src/tree/updater_prune.cc:74: tree pruning end, 1 roots, 72 extra nodes, 22 pruned nodes, max_depth=8\u001b[0m\n",
      "\u001b[34m[4]#011train-rmse:0.423294#011validation-rmse:0.427152\u001b[0m\n",
      "\u001b[34m[15:21:16] src/tree/updater_prune.cc:74: tree pruning end, 1 roots, 68 extra nodes, 16 pruned nodes, max_depth=8\u001b[0m\n",
      "\u001b[34m[5]#011train-rmse:0.415449#011validation-rmse:0.419922\u001b[0m\n",
      "\u001b[34m[15:21:19] src/tree/updater_prune.cc:74: tree pruning end, 1 roots, 62 extra nodes, 12 pruned nodes, max_depth=8\u001b[0m\n",
      "\u001b[34m[6]#011train-rmse:0.408602#011validation-rmse:0.413851\u001b[0m\n",
      "\u001b[34m[15:21:21] src/tree/updater_prune.cc:74: tree pruning end, 1 roots, 84 extra nodes, 18 pruned nodes, max_depth=8\u001b[0m\n",
      "\u001b[34m[7]#011train-rmse:0.401997#011validation-rmse:0.40884\u001b[0m\n",
      "\u001b[34m[15:21:23] src/tree/updater_prune.cc:74: tree pruning end, 1 roots, 64 extra nodes, 22 pruned nodes, max_depth=8\u001b[0m\n",
      "\u001b[34m[8]#011train-rmse:0.395876#011validation-rmse:0.403498\u001b[0m\n",
      "\u001b[34m[15:21:25] src/tree/updater_prune.cc:74: tree pruning end, 1 roots, 54 extra nodes, 20 pruned nodes, max_depth=8\u001b[0m\n",
      "\u001b[34m[9]#011train-rmse:0.391238#011validation-rmse:0.399125\u001b[0m\n",
      "\u001b[34m[15:21:28] src/tree/updater_prune.cc:74: tree pruning end, 1 roots, 78 extra nodes, 20 pruned nodes, max_depth=8\u001b[0m\n",
      "\u001b[34m[10]#011train-rmse:0.386031#011validation-rmse:0.394873\u001b[0m\n",
      "\u001b[34m[15:21:30] src/tree/updater_prune.cc:74: tree pruning end, 1 roots, 58 extra nodes, 24 pruned nodes, max_depth=8\u001b[0m\n",
      "\u001b[34m[11]#011train-rmse:0.381434#011validation-rmse:0.390801\u001b[0m\n",
      "\u001b[34m[15:21:32] src/tree/updater_prune.cc:74: tree pruning end, 1 roots, 50 extra nodes, 16 pruned nodes, max_depth=8\u001b[0m\n",
      "\u001b[34m[12]#011train-rmse:0.377065#011validation-rmse:0.387246\u001b[0m\n",
      "\u001b[34m[15:21:34] src/tree/updater_prune.cc:74: tree pruning end, 1 roots, 48 extra nodes, 18 pruned nodes, max_depth=8\u001b[0m\n",
      "\u001b[34m[13]#011train-rmse:0.373212#011validation-rmse:0.384031\u001b[0m\n",
      "\u001b[34m[15:21:37] src/tree/updater_prune.cc:74: tree pruning end, 1 roots, 46 extra nodes, 20 pruned nodes, max_depth=8\u001b[0m\n",
      "\u001b[34m[14]#011train-rmse:0.369945#011validation-rmse:0.38164\u001b[0m\n",
      "\u001b[34m[15:21:39] src/tree/updater_prune.cc:74: tree pruning end, 1 roots, 70 extra nodes, 22 pruned nodes, max_depth=8\u001b[0m\n",
      "\u001b[34m[15]#011train-rmse:0.366218#011validation-rmse:0.379329\u001b[0m\n",
      "\u001b[34m[15:21:41] src/tree/updater_prune.cc:74: tree pruning end, 1 roots, 46 extra nodes, 12 pruned nodes, max_depth=8\u001b[0m\n",
      "\u001b[34m[16]#011train-rmse:0.363147#011validation-rmse:0.377008\u001b[0m\n",
      "\u001b[34m[15:21:43] src/tree/updater_prune.cc:74: tree pruning end, 1 roots, 56 extra nodes, 6 pruned nodes, max_depth=8\u001b[0m\n",
      "\u001b[34m[17]#011train-rmse:0.359817#011validation-rmse:0.374614\u001b[0m\n",
      "\u001b[34m[15:21:46] src/tree/updater_prune.cc:74: tree pruning end, 1 roots, 40 extra nodes, 12 pruned nodes, max_depth=8\u001b[0m\n",
      "\u001b[34m[18]#011train-rmse:0.357253#011validation-rmse:0.372922\u001b[0m\n",
      "\u001b[34m[15:21:48] src/tree/updater_prune.cc:74: tree pruning end, 1 roots, 66 extra nodes, 12 pruned nodes, max_depth=8\u001b[0m\n",
      "\u001b[34m[19]#011train-rmse:0.353893#011validation-rmse:0.37056\u001b[0m\n",
      "\u001b[34m[15:21:50] src/tree/updater_prune.cc:74: tree pruning end, 1 roots, 50 extra nodes, 10 pruned nodes, max_depth=8\u001b[0m\n",
      "\u001b[34m[20]#011train-rmse:0.350814#011validation-rmse:0.368395\u001b[0m\n",
      "\u001b[34m[15:21:52] src/tree/updater_prune.cc:74: tree pruning end, 1 roots, 34 extra nodes, 24 pruned nodes, max_depth=8\u001b[0m\n",
      "\u001b[34m[21]#011train-rmse:0.348647#011validation-rmse:0.366659\u001b[0m\n",
      "\u001b[34m[15:21:55] src/tree/updater_prune.cc:74: tree pruning end, 1 roots, 40 extra nodes, 10 pruned nodes, max_depth=8\u001b[0m\n",
      "\u001b[34m[22]#011train-rmse:0.34626#011validation-rmse:0.364941\u001b[0m\n",
      "\u001b[34m[15:21:57] src/tree/updater_prune.cc:74: tree pruning end, 1 roots, 56 extra nodes, 26 pruned nodes, max_depth=8\u001b[0m\n",
      "\u001b[34m[23]#011train-rmse:0.343852#011validation-rmse:0.362989\u001b[0m\n",
      "\u001b[34m[15:21:59] src/tree/updater_prune.cc:74: tree pruning end, 1 roots, 46 extra nodes, 14 pruned nodes, max_depth=8\u001b[0m\n",
      "\u001b[34m[24]#011train-rmse:0.34159#011validation-rmse:0.361632\u001b[0m\n",
      "\u001b[34m[15:22:01] src/tree/updater_prune.cc:74: tree pruning end, 1 roots, 70 extra nodes, 16 pruned nodes, max_depth=8\u001b[0m\n",
      "\u001b[34m[25]#011train-rmse:0.338771#011validation-rmse:0.360419\u001b[0m\n",
      "\u001b[34m[15:22:04] src/tree/updater_prune.cc:74: tree pruning end, 1 roots, 50 extra nodes, 18 pruned nodes, max_depth=8\u001b[0m\n",
      "\u001b[34m[26]#011train-rmse:0.336582#011validation-rmse:0.358912\u001b[0m\n",
      "\u001b[34m[15:22:06] src/tree/updater_prune.cc:74: tree pruning end, 1 roots, 44 extra nodes, 4 pruned nodes, max_depth=8\u001b[0m\n",
      "\u001b[34m[27]#011train-rmse:0.334621#011validation-rmse:0.35753\u001b[0m\n",
      "\u001b[34m[15:22:08] src/tree/updater_prune.cc:74: tree pruning end, 1 roots, 30 extra nodes, 16 pruned nodes, max_depth=8\u001b[0m\n",
      "\u001b[34m[28]#011train-rmse:0.333117#011validation-rmse:0.356382\u001b[0m\n",
      "\u001b[34m[15:22:10] src/tree/updater_prune.cc:74: tree pruning end, 1 roots, 40 extra nodes, 14 pruned nodes, max_depth=8\u001b[0m\n",
      "\u001b[34m[29]#011train-rmse:0.331134#011validation-rmse:0.35527\u001b[0m\n",
      "\u001b[34m[15:22:13] src/tree/updater_prune.cc:74: tree pruning end, 1 roots, 60 extra nodes, 16 pruned nodes, max_depth=8\u001b[0m\n",
      "\u001b[34m[30]#011train-rmse:0.329062#011validation-rmse:0.353818\u001b[0m\n",
      "\u001b[34m[15:22:15] src/tree/updater_prune.cc:74: tree pruning end, 1 roots, 56 extra nodes, 14 pruned nodes, max_depth=8\u001b[0m\n",
      "\u001b[34m[31]#011train-rmse:0.327207#011validation-rmse:0.352992\u001b[0m\n",
      "\u001b[34m[15:22:17] src/tree/updater_prune.cc:74: tree pruning end, 1 roots, 38 extra nodes, 8 pruned nodes, max_depth=8\u001b[0m\n",
      "\u001b[34m[32]#011train-rmse:0.32566#011validation-rmse:0.351844\u001b[0m\n",
      "\u001b[34m[15:22:19] src/tree/updater_prune.cc:74: tree pruning end, 1 roots, 54 extra nodes, 14 pruned nodes, max_depth=8\u001b[0m\n",
      "\u001b[34m[33]#011train-rmse:0.32381#011validation-rmse:0.350857\u001b[0m\n",
      "\u001b[34m[15:22:21] src/tree/updater_prune.cc:74: tree pruning end, 1 roots, 70 extra nodes, 16 pruned nodes, max_depth=8\u001b[0m\n",
      "\u001b[34m[34]#011train-rmse:0.321301#011validation-rmse:0.349792\u001b[0m\n",
      "\u001b[34m[15:22:24] src/tree/updater_prune.cc:74: tree pruning end, 1 roots, 42 extra nodes, 12 pruned nodes, max_depth=8\u001b[0m\n",
      "\u001b[34m[35]#011train-rmse:0.319749#011validation-rmse:0.348974\u001b[0m\n",
      "\u001b[34m[15:22:26] src/tree/updater_prune.cc:74: tree pruning end, 1 roots, 50 extra nodes, 10 pruned nodes, max_depth=8\u001b[0m\n",
      "\u001b[34m[36]#011train-rmse:0.317935#011validation-rmse:0.347683\u001b[0m\n",
      "\u001b[34m[15:22:28] src/tree/updater_prune.cc:74: tree pruning end, 1 roots, 54 extra nodes, 22 pruned nodes, max_depth=8\u001b[0m\n",
      "\u001b[34m[37]#011train-rmse:0.316097#011validation-rmse:0.347034\u001b[0m\n",
      "\u001b[34m[15:22:30] src/tree/updater_prune.cc:74: tree pruning end, 1 roots, 44 extra nodes, 14 pruned nodes, max_depth=8\u001b[0m\n",
      "\u001b[34m[38]#011train-rmse:0.314616#011validation-rmse:0.346268\u001b[0m\n",
      "\u001b[34m[15:22:33] src/tree/updater_prune.cc:74: tree pruning end, 1 roots, 50 extra nodes, 16 pruned nodes, max_depth=8\u001b[0m\n",
      "\u001b[34m[39]#011train-rmse:0.312883#011validation-rmse:0.345249\u001b[0m\n",
      "\u001b[34m[15:22:35] src/tree/updater_prune.cc:74: tree pruning end, 1 roots, 16 extra nodes, 14 pruned nodes, max_depth=8\u001b[0m\n",
      "\u001b[34m[40]#011train-rmse:0.311856#011validation-rmse:0.344362\u001b[0m\n",
      "\u001b[34m[15:22:37] src/tree/updater_prune.cc:74: tree pruning end, 1 roots, 32 extra nodes, 10 pruned nodes, max_depth=8\u001b[0m\n",
      "\u001b[34m[41]#011train-rmse:0.310632#011validation-rmse:0.343483\u001b[0m\n",
      "\u001b[34m[15:22:39] src/tree/updater_prune.cc:74: tree pruning end, 1 roots, 24 extra nodes, 14 pruned nodes, max_depth=8\u001b[0m\n",
      "\u001b[34m[42]#011train-rmse:0.309535#011validation-rmse:0.342873\u001b[0m\n",
      "\u001b[34m[15:22:42] src/tree/updater_prune.cc:74: tree pruning end, 1 roots, 36 extra nodes, 24 pruned nodes, max_depth=8\u001b[0m\n",
      "\u001b[34m[43]#011train-rmse:0.308286#011validation-rmse:0.342018\u001b[0m\n",
      "\u001b[34m[15:22:44] src/tree/updater_prune.cc:74: tree pruning end, 1 roots, 54 extra nodes, 12 pruned nodes, max_depth=8\u001b[0m\n",
      "\u001b[34m[44]#011train-rmse:0.306689#011validation-rmse:0.34142\u001b[0m\n",
      "\u001b[34m[15:22:46] src/tree/updater_prune.cc:74: tree pruning end, 1 roots, 30 extra nodes, 18 pruned nodes, max_depth=8\u001b[0m\n",
      "\u001b[34m[45]#011train-rmse:0.305574#011validation-rmse:0.340758\u001b[0m\n",
      "\u001b[34m[15:22:48] src/tree/updater_prune.cc:74: tree pruning end, 1 roots, 22 extra nodes, 10 pruned nodes, max_depth=8\u001b[0m\n",
      "\u001b[34m[46]#011train-rmse:0.304579#011validation-rmse:0.339931\u001b[0m\n",
      "\u001b[34m[15:22:51] src/tree/updater_prune.cc:74: tree pruning end, 1 roots, 44 extra nodes, 18 pruned nodes, max_depth=8\u001b[0m\n",
      "\u001b[34m[47]#011train-rmse:0.303357#011validation-rmse:0.339208\u001b[0m\n",
      "\u001b[34m[15:22:53] src/tree/updater_prune.cc:74: tree pruning end, 1 roots, 28 extra nodes, 10 pruned nodes, max_depth=8\u001b[0m\n",
      "\u001b[34m[48]#011train-rmse:0.302322#011validation-rmse:0.338324\u001b[0m\n",
      "\u001b[34m[15:22:55] src/tree/updater_prune.cc:74: tree pruning end, 1 roots, 26 extra nodes, 10 pruned nodes, max_depth=8\u001b[0m\n",
      "\u001b[34m[49]#011train-rmse:0.301283#011validation-rmse:0.337439\u001b[0m\n",
      "\u001b[34m[15:22:57] src/tree/updater_prune.cc:74: tree pruning end, 1 roots, 28 extra nodes, 20 pruned nodes, max_depth=8\u001b[0m\n",
      "\u001b[34m[50]#011train-rmse:0.300246#011validation-rmse:0.336584\u001b[0m\n",
      "\u001b[34m[15:23:00] src/tree/updater_prune.cc:74: tree pruning end, 1 roots, 32 extra nodes, 10 pruned nodes, max_depth=8\u001b[0m\n",
      "\u001b[34m[51]#011train-rmse:0.299019#011validation-rmse:0.33574\u001b[0m\n",
      "\u001b[34m[15:23:02] src/tree/updater_prune.cc:74: tree pruning end, 1 roots, 28 extra nodes, 16 pruned nodes, max_depth=8\u001b[0m\n",
      "\u001b[34m[52]#011train-rmse:0.297954#011validation-rmse:0.335364\u001b[0m\n",
      "\u001b[34m[15:23:04] src/tree/updater_prune.cc:74: tree pruning end, 1 roots, 40 extra nodes, 14 pruned nodes, max_depth=8\u001b[0m\n",
      "\u001b[34m[53]#011train-rmse:0.296778#011validation-rmse:0.334593\u001b[0m\n",
      "\u001b[34m[15:23:06] src/tree/updater_prune.cc:74: tree pruning end, 1 roots, 32 extra nodes, 14 pruned nodes, max_depth=8\u001b[0m\n",
      "\u001b[34m[54]#011train-rmse:0.295564#011validation-rmse:0.334115\u001b[0m\n",
      "\u001b[34m[15:23:09] src/tree/updater_prune.cc:74: tree pruning end, 1 roots, 28 extra nodes, 12 pruned nodes, max_depth=8\u001b[0m\n",
      "\u001b[34m[55]#011train-rmse:0.294737#011validation-rmse:0.333655\u001b[0m\n",
      "\u001b[34m[15:23:11] src/tree/updater_prune.cc:74: tree pruning end, 1 roots, 32 extra nodes, 18 pruned nodes, max_depth=8\u001b[0m\n",
      "\u001b[34m[56]#011train-rmse:0.293761#011validation-rmse:0.333244\u001b[0m\n",
      "\u001b[34m[15:23:13] src/tree/updater_prune.cc:74: tree pruning end, 1 roots, 40 extra nodes, 16 pruned nodes, max_depth=8\u001b[0m\n",
      "\u001b[34m[57]#011train-rmse:0.292613#011validation-rmse:0.33254\u001b[0m\n",
      "\u001b[34m[15:23:15] src/tree/updater_prune.cc:74: tree pruning end, 1 roots, 20 extra nodes, 16 pruned nodes, max_depth=8\u001b[0m\n",
      "\u001b[34m[58]#011train-rmse:0.291783#011validation-rmse:0.331845\u001b[0m\n",
      "\u001b[34m[15:23:18] src/tree/updater_prune.cc:74: tree pruning end, 1 roots, 32 extra nodes, 12 pruned nodes, max_depth=8\u001b[0m\n",
      "\u001b[34m[59]#011train-rmse:0.290936#011validation-rmse:0.33148\u001b[0m\n",
      "\u001b[34m[15:23:20] src/tree/updater_prune.cc:74: tree pruning end, 1 roots, 24 extra nodes, 16 pruned nodes, max_depth=8\u001b[0m\n",
      "\u001b[34m[60]#011train-rmse:0.290182#011validation-rmse:0.330967\u001b[0m\n",
      "\u001b[34m[15:23:22] src/tree/updater_prune.cc:74: tree pruning end, 1 roots, 26 extra nodes, 22 pruned nodes, max_depth=8\u001b[0m\n",
      "\u001b[34m[61]#011train-rmse:0.289412#011validation-rmse:0.330479\u001b[0m\n",
      "\u001b[34m[15:23:24] src/tree/updater_prune.cc:74: tree pruning end, 1 roots, 52 extra nodes, 10 pruned nodes, max_depth=8\u001b[0m\n",
      "\u001b[34m[62]#011train-rmse:0.288131#011validation-rmse:0.329923\u001b[0m\n",
      "\u001b[34m[15:23:27] src/tree/updater_prune.cc:74: tree pruning end, 1 roots, 28 extra nodes, 8 pruned nodes, max_depth=8\u001b[0m\n",
      "\u001b[34m[63]#011train-rmse:0.287261#011validation-rmse:0.329783\u001b[0m\n",
      "\u001b[34m[15:23:29] src/tree/updater_prune.cc:74: tree pruning end, 1 roots, 28 extra nodes, 6 pruned nodes, max_depth=8\u001b[0m\n",
      "\u001b[34m[64]#011train-rmse:0.286493#011validation-rmse:0.329263\u001b[0m\n",
      "\u001b[34m[15:23:31] src/tree/updater_prune.cc:74: tree pruning end, 1 roots, 18 extra nodes, 10 pruned nodes, max_depth=8\u001b[0m\n",
      "\u001b[34m[65]#011train-rmse:0.285827#011validation-rmse:0.32862\u001b[0m\n",
      "\u001b[34m[15:23:33] src/tree/updater_prune.cc:74: tree pruning end, 1 roots, 32 extra nodes, 10 pruned nodes, max_depth=8\u001b[0m\n",
      "\u001b[34m[66]#011train-rmse:0.284883#011validation-rmse:0.328207\u001b[0m\n",
      "\u001b[34m[15:23:36] src/tree/updater_prune.cc:74: tree pruning end, 1 roots, 18 extra nodes, 6 pruned nodes, max_depth=8\u001b[0m\n",
      "\u001b[34m[67]#011train-rmse:0.28423#011validation-rmse:0.327677\u001b[0m\n",
      "\u001b[34m[15:23:38] src/tree/updater_prune.cc:74: tree pruning end, 1 roots, 22 extra nodes, 10 pruned nodes, max_depth=8\u001b[0m\n",
      "\u001b[34m[68]#011train-rmse:0.283621#011validation-rmse:0.327178\u001b[0m\n",
      "\u001b[34m[15:23:40] src/tree/updater_prune.cc:74: tree pruning end, 1 roots, 38 extra nodes, 18 pruned nodes, max_depth=8\u001b[0m\n",
      "\u001b[34m[69]#011train-rmse:0.282826#011validation-rmse:0.326736\u001b[0m\n",
      "\u001b[34m[15:23:42] src/tree/updater_prune.cc:74: tree pruning end, 1 roots, 50 extra nodes, 20 pruned nodes, max_depth=8\u001b[0m\n",
      "\u001b[34m[70]#011train-rmse:0.281648#011validation-rmse:0.326481\u001b[0m\n",
      "\u001b[34m[15:23:45] src/tree/updater_prune.cc:74: tree pruning end, 1 roots, 54 extra nodes, 10 pruned nodes, max_depth=8\u001b[0m\n",
      "\u001b[34m[71]#011train-rmse:0.280315#011validation-rmse:0.326063\u001b[0m\n",
      "\u001b[34m[15:23:47] src/tree/updater_prune.cc:74: tree pruning end, 1 roots, 40 extra nodes, 18 pruned nodes, max_depth=8\u001b[0m\n",
      "\u001b[34m[72]#011train-rmse:0.279274#011validation-rmse:0.325445\u001b[0m\n",
      "\u001b[34m[15:23:49] src/tree/updater_prune.cc:74: tree pruning end, 1 roots, 20 extra nodes, 6 pruned nodes, max_depth=8\u001b[0m\n",
      "\u001b[34m[73]#011train-rmse:0.278642#011validation-rmse:0.325077\u001b[0m\n",
      "\u001b[34m[15:23:51] src/tree/updater_prune.cc:74: tree pruning end, 1 roots, 62 extra nodes, 16 pruned nodes, max_depth=8\u001b[0m\n",
      "\u001b[34m[74]#011train-rmse:0.277352#011validation-rmse:0.324483\u001b[0m\n",
      "\u001b[34m[15:23:54] src/tree/updater_prune.cc:74: tree pruning end, 1 roots, 28 extra nodes, 2 pruned nodes, max_depth=8\u001b[0m\n",
      "\u001b[34m[75]#011train-rmse:0.27656#011validation-rmse:0.323917\u001b[0m\n",
      "\u001b[34m[15:23:56] src/tree/updater_prune.cc:74: tree pruning end, 1 roots, 50 extra nodes, 12 pruned nodes, max_depth=8\u001b[0m\n",
      "\u001b[34m[76]#011train-rmse:0.275316#011validation-rmse:0.323883\u001b[0m\n",
      "\u001b[34m[15:23:58] src/tree/updater_prune.cc:74: tree pruning end, 1 roots, 24 extra nodes, 4 pruned nodes, max_depth=8\u001b[0m\n",
      "\u001b[34m[77]#011train-rmse:0.274629#011validation-rmse:0.323704\u001b[0m\n",
      "\u001b[34m[15:24:00] src/tree/updater_prune.cc:74: tree pruning end, 1 roots, 48 extra nodes, 6 pruned nodes, max_depth=8\u001b[0m\n",
      "\u001b[34m[78]#011train-rmse:0.273635#011validation-rmse:0.32343\u001b[0m\n",
      "\u001b[34m[15:24:03] src/tree/updater_prune.cc:74: tree pruning end, 1 roots, 36 extra nodes, 14 pruned nodes, max_depth=8\u001b[0m\n",
      "\u001b[34m[79]#011train-rmse:0.272756#011validation-rmse:0.3231\u001b[0m\n",
      "\u001b[34m[15:24:05] src/tree/updater_prune.cc:74: tree pruning end, 1 roots, 28 extra nodes, 8 pruned nodes, max_depth=8\u001b[0m\n",
      "\u001b[34m[80]#011train-rmse:0.272108#011validation-rmse:0.323091\u001b[0m\n",
      "\u001b[34m[15:24:07] src/tree/updater_prune.cc:74: tree pruning end, 1 roots, 22 extra nodes, 18 pruned nodes, max_depth=8\u001b[0m\n",
      "\u001b[34m[81]#011train-rmse:0.271688#011validation-rmse:0.322948\u001b[0m\n",
      "\u001b[34m[15:24:09] src/tree/updater_prune.cc:74: tree pruning end, 1 roots, 30 extra nodes, 10 pruned nodes, max_depth=8\u001b[0m\n",
      "\u001b[34m[82]#011train-rmse:0.271169#011validation-rmse:0.322959\u001b[0m\n",
      "\u001b[34m[15:24:12] src/tree/updater_prune.cc:74: tree pruning end, 1 roots, 32 extra nodes, 6 pruned nodes, max_depth=8\u001b[0m\n",
      "\u001b[34m[83]#011train-rmse:0.27041#011validation-rmse:0.322424\u001b[0m\n",
      "\u001b[34m[15:24:14] src/tree/updater_prune.cc:74: tree pruning end, 1 roots, 20 extra nodes, 14 pruned nodes, max_depth=8\u001b[0m\n",
      "\u001b[34m[84]#011train-rmse:0.269753#011validation-rmse:0.322362\u001b[0m\n",
      "\u001b[34m[15:24:16] src/tree/updater_prune.cc:74: tree pruning end, 1 roots, 22 extra nodes, 8 pruned nodes, max_depth=8\u001b[0m\n",
      "\u001b[34m[85]#011train-rmse:0.269267#011validation-rmse:0.321785\u001b[0m\n",
      "\u001b[34m[15:24:18] src/tree/updater_prune.cc:74: tree pruning end, 1 roots, 32 extra nodes, 10 pruned nodes, max_depth=8\u001b[0m\n",
      "\u001b[34m[86]#011train-rmse:0.268579#011validation-rmse:0.321609\u001b[0m\n",
      "\u001b[34m[15:24:21] src/tree/updater_prune.cc:74: tree pruning end, 1 roots, 24 extra nodes, 12 pruned nodes, max_depth=8\u001b[0m\n",
      "\u001b[34m[87]#011train-rmse:0.267944#011validation-rmse:0.321184\u001b[0m\n",
      "\u001b[34m[15:24:23] src/tree/updater_prune.cc:74: tree pruning end, 1 roots, 24 extra nodes, 8 pruned nodes, max_depth=8\u001b[0m\n",
      "\u001b[34m[88]#011train-rmse:0.267464#011validation-rmse:0.321037\u001b[0m\n",
      "\u001b[34m[15:24:25] src/tree/updater_prune.cc:74: tree pruning end, 1 roots, 24 extra nodes, 16 pruned nodes, max_depth=8\u001b[0m\n",
      "\u001b[34m[89]#011train-rmse:0.266962#011validation-rmse:0.320695\u001b[0m\n",
      "\u001b[34m[15:24:27] src/tree/updater_prune.cc:74: tree pruning end, 1 roots, 20 extra nodes, 2 pruned nodes, max_depth=8\u001b[0m\n",
      "\u001b[34m[90]#011train-rmse:0.266502#011validation-rmse:0.320515\u001b[0m\n",
      "\u001b[34m[15:24:30] src/tree/updater_prune.cc:74: tree pruning end, 1 roots, 32 extra nodes, 4 pruned nodes, max_depth=8\u001b[0m\n",
      "\u001b[34m[91]#011train-rmse:0.265727#011validation-rmse:0.320224\u001b[0m\n",
      "\u001b[34m[15:24:32] src/tree/updater_prune.cc:74: tree pruning end, 1 roots, 36 extra nodes, 22 pruned nodes, max_depth=8\u001b[0m\n",
      "\u001b[34m[92]#011train-rmse:0.264967#011validation-rmse:0.320028\u001b[0m\n",
      "\u001b[34m[15:24:34] src/tree/updater_prune.cc:74: tree pruning end, 1 roots, 24 extra nodes, 12 pruned nodes, max_depth=8\u001b[0m\n",
      "\u001b[34m[93]#011train-rmse:0.264494#011validation-rmse:0.319732\u001b[0m\n",
      "\u001b[34m[15:24:36] src/tree/updater_prune.cc:74: tree pruning end, 1 roots, 28 extra nodes, 14 pruned nodes, max_depth=8\u001b[0m\n",
      "\u001b[34m[94]#011train-rmse:0.263835#011validation-rmse:0.319574\u001b[0m\n",
      "\u001b[34m[15:24:39] src/tree/updater_prune.cc:74: tree pruning end, 1 roots, 28 extra nodes, 8 pruned nodes, max_depth=8\u001b[0m\n",
      "\u001b[34m[95]#011train-rmse:0.26315#011validation-rmse:0.319264\u001b[0m\n",
      "\u001b[34m[15:24:41] src/tree/updater_prune.cc:74: tree pruning end, 1 roots, 38 extra nodes, 14 pruned nodes, max_depth=8\u001b[0m\n",
      "\u001b[34m[96]#011train-rmse:0.262418#011validation-rmse:0.319006\u001b[0m\n",
      "\u001b[34m[15:24:43] src/tree/updater_prune.cc:74: tree pruning end, 1 roots, 20 extra nodes, 12 pruned nodes, max_depth=8\u001b[0m\n",
      "\u001b[34m[97]#011train-rmse:0.262006#011validation-rmse:0.318826\u001b[0m\n",
      "\u001b[34m[15:24:45] src/tree/updater_prune.cc:74: tree pruning end, 1 roots, 30 extra nodes, 18 pruned nodes, max_depth=8\u001b[0m\n",
      "\u001b[34m[98]#011train-rmse:0.261295#011validation-rmse:0.318909\u001b[0m\n",
      "\u001b[34m[15:24:48] src/tree/updater_prune.cc:74: tree pruning end, 1 roots, 28 extra nodes, 10 pruned nodes, max_depth=8\u001b[0m\n",
      "\u001b[34m[99]#011train-rmse:0.260675#011validation-rmse:0.318639\u001b[0m\n",
      "\u001b[34m[15:24:50] src/tree/updater_prune.cc:74: tree pruning end, 1 roots, 20 extra nodes, 14 pruned nodes, max_depth=8\u001b[0m\n",
      "\u001b[34m[100]#011train-rmse:0.260258#011validation-rmse:0.3183\u001b[0m\n",
      "\u001b[34m[15:24:52] src/tree/updater_prune.cc:74: tree pruning end, 1 roots, 42 extra nodes, 10 pruned nodes, max_depth=8\u001b[0m\n",
      "\u001b[34m[101]#011train-rmse:0.259269#011validation-rmse:0.318366\u001b[0m\n",
      "\u001b[34m[15:24:54] src/tree/updater_prune.cc:74: tree pruning end, 1 roots, 26 extra nodes, 8 pruned nodes, max_depth=8\u001b[0m\n",
      "\u001b[34m[102]#011train-rmse:0.258732#011validation-rmse:0.318216\u001b[0m\n",
      "\u001b[34m[15:24:57] src/tree/updater_prune.cc:74: tree pruning end, 1 roots, 24 extra nodes, 8 pruned nodes, max_depth=8\u001b[0m\n",
      "\u001b[34m[103]#011train-rmse:0.258165#011validation-rmse:0.31809\u001b[0m\n",
      "\u001b[34m[15:24:59] src/tree/updater_prune.cc:74: tree pruning end, 1 roots, 22 extra nodes, 12 pruned nodes, max_depth=8\u001b[0m\n",
      "\u001b[34m[104]#011train-rmse:0.257673#011validation-rmse:0.318121\u001b[0m\n",
      "\u001b[34m[15:25:01] src/tree/updater_prune.cc:74: tree pruning end, 1 roots, 22 extra nodes, 8 pruned nodes, max_depth=8\u001b[0m\n",
      "\u001b[34m[105]#011train-rmse:0.257106#011validation-rmse:0.317945\u001b[0m\n",
      "\u001b[34m[15:25:03] src/tree/updater_prune.cc:74: tree pruning end, 1 roots, 34 extra nodes, 18 pruned nodes, max_depth=8\u001b[0m\n",
      "\u001b[34m[106]#011train-rmse:0.256424#011validation-rmse:0.317856\u001b[0m\n",
      "\u001b[34m[15:25:06] src/tree/updater_prune.cc:74: tree pruning end, 1 roots, 28 extra nodes, 12 pruned nodes, max_depth=8\u001b[0m\n",
      "\u001b[34m[107]#011train-rmse:0.25582#011validation-rmse:0.317352\u001b[0m\n",
      "\u001b[34m[15:25:08] src/tree/updater_prune.cc:74: tree pruning end, 1 roots, 34 extra nodes, 6 pruned nodes, max_depth=8\u001b[0m\n",
      "\u001b[34m[108]#011train-rmse:0.255357#011validation-rmse:0.317342\u001b[0m\n",
      "\u001b[34m[15:25:10] src/tree/updater_prune.cc:74: tree pruning end, 1 roots, 26 extra nodes, 8 pruned nodes, max_depth=8\u001b[0m\n",
      "\u001b[34m[109]#011train-rmse:0.254785#011validation-rmse:0.317091\u001b[0m\n",
      "\u001b[34m[15:25:12] src/tree/updater_prune.cc:74: tree pruning end, 1 roots, 26 extra nodes, 20 pruned nodes, max_depth=8\u001b[0m\n",
      "\u001b[34m[110]#011train-rmse:0.254243#011validation-rmse:0.316756\u001b[0m\n",
      "\u001b[34m[15:25:15] src/tree/updater_prune.cc:74: tree pruning end, 1 roots, 16 extra nodes, 2 pruned nodes, max_depth=8\u001b[0m\n",
      "\u001b[34m[111]#011train-rmse:0.253895#011validation-rmse:0.316693\u001b[0m\n",
      "\u001b[34m[15:25:17] src/tree/updater_prune.cc:74: tree pruning end, 1 roots, 32 extra nodes, 12 pruned nodes, max_depth=8\u001b[0m\n",
      "\u001b[34m[112]#011train-rmse:0.253233#011validation-rmse:0.316539\u001b[0m\n",
      "\u001b[34m[15:25:19] src/tree/updater_prune.cc:74: tree pruning end, 1 roots, 26 extra nodes, 6 pruned nodes, max_depth=8\u001b[0m\n",
      "\u001b[34m[113]#011train-rmse:0.252694#011validation-rmse:0.316259\u001b[0m\n",
      "\u001b[34m[15:25:21] src/tree/updater_prune.cc:74: tree pruning end, 1 roots, 26 extra nodes, 18 pruned nodes, max_depth=8\u001b[0m\n",
      "\u001b[34m[114]#011train-rmse:0.252137#011validation-rmse:0.316058\u001b[0m\n",
      "\u001b[34m[15:25:24] src/tree/updater_prune.cc:74: tree pruning end, 1 roots, 24 extra nodes, 16 pruned nodes, max_depth=8\u001b[0m\n",
      "\u001b[34m[115]#011train-rmse:0.251656#011validation-rmse:0.315918\u001b[0m\n",
      "\u001b[34m[15:25:26] src/tree/updater_prune.cc:74: tree pruning end, 1 roots, 22 extra nodes, 10 pruned nodes, max_depth=8\u001b[0m\n",
      "\u001b[34m[116]#011train-rmse:0.25124#011validation-rmse:0.315772\u001b[0m\n",
      "\u001b[34m[15:25:28] src/tree/updater_prune.cc:74: tree pruning end, 1 roots, 26 extra nodes, 8 pruned nodes, max_depth=8\u001b[0m\n",
      "\u001b[34m[117]#011train-rmse:0.250648#011validation-rmse:0.315462\u001b[0m\n",
      "\u001b[34m[15:25:30] src/tree/updater_prune.cc:74: tree pruning end, 1 roots, 16 extra nodes, 4 pruned nodes, max_depth=8\u001b[0m\n",
      "\u001b[34m[118]#011train-rmse:0.250312#011validation-rmse:0.315214\u001b[0m\n",
      "\u001b[34m[15:25:33] src/tree/updater_prune.cc:74: tree pruning end, 1 roots, 40 extra nodes, 10 pruned nodes, max_depth=8\u001b[0m\n",
      "\u001b[34m[119]#011train-rmse:0.249541#011validation-rmse:0.315086\u001b[0m\n",
      "\u001b[34m[15:25:35] src/tree/updater_prune.cc:74: tree pruning end, 1 roots, 22 extra nodes, 12 pruned nodes, max_depth=8\u001b[0m\n",
      "\u001b[34m[120]#011train-rmse:0.249054#011validation-rmse:0.314966\u001b[0m\n",
      "\u001b[34m[15:25:37] src/tree/updater_prune.cc:74: tree pruning end, 1 roots, 28 extra nodes, 22 pruned nodes, max_depth=8\u001b[0m\n",
      "\u001b[34m[121]#011train-rmse:0.248501#011validation-rmse:0.314721\u001b[0m\n",
      "\u001b[34m[15:25:39] src/tree/updater_prune.cc:74: tree pruning end, 1 roots, 22 extra nodes, 20 pruned nodes, max_depth=8\u001b[0m\n",
      "\u001b[34m[122]#011train-rmse:0.248133#011validation-rmse:0.314612\u001b[0m\n",
      "\u001b[34m[15:25:42] src/tree/updater_prune.cc:74: tree pruning end, 1 roots, 16 extra nodes, 12 pruned nodes, max_depth=8\u001b[0m\n",
      "\u001b[34m[123]#011train-rmse:0.247838#011validation-rmse:0.314556\u001b[0m\n",
      "\u001b[34m[15:25:44] src/tree/updater_prune.cc:74: tree pruning end, 1 roots, 22 extra nodes, 8 pruned nodes, max_depth=8\u001b[0m\n",
      "\u001b[34m[124]#011train-rmse:0.247581#011validation-rmse:0.314469\u001b[0m\n",
      "\u001b[34m[15:25:46] src/tree/updater_prune.cc:74: tree pruning end, 1 roots, 20 extra nodes, 8 pruned nodes, max_depth=8\u001b[0m\n",
      "\u001b[34m[125]#011train-rmse:0.247203#011validation-rmse:0.314273\u001b[0m\n",
      "\u001b[34m[15:25:48] src/tree/updater_prune.cc:74: tree pruning end, 1 roots, 36 extra nodes, 28 pruned nodes, max_depth=8\u001b[0m\n",
      "\u001b[34m[126]#011train-rmse:0.246596#011validation-rmse:0.314272\u001b[0m\n",
      "\u001b[34m[15:25:50] src/tree/updater_prune.cc:74: tree pruning end, 1 roots, 18 extra nodes, 8 pruned nodes, max_depth=8\u001b[0m\n",
      "\u001b[34m[127]#011train-rmse:0.246239#011validation-rmse:0.314077\u001b[0m\n",
      "\u001b[34m[15:25:53] src/tree/updater_prune.cc:74: tree pruning end, 1 roots, 24 extra nodes, 22 pruned nodes, max_depth=8\u001b[0m\n",
      "\u001b[34m[128]#011train-rmse:0.245846#011validation-rmse:0.31387\u001b[0m\n",
      "\u001b[34m[15:25:55] src/tree/updater_prune.cc:74: tree pruning end, 1 roots, 36 extra nodes, 26 pruned nodes, max_depth=8\u001b[0m\n",
      "\u001b[34m[129]#011train-rmse:0.2451#011validation-rmse:0.31369\u001b[0m\n",
      "\u001b[34m[15:25:57] src/tree/updater_prune.cc:74: tree pruning end, 1 roots, 24 extra nodes, 4 pruned nodes, max_depth=8\u001b[0m\n",
      "\u001b[34m[130]#011train-rmse:0.244634#011validation-rmse:0.313683\u001b[0m\n",
      "\u001b[34m[15:25:59] src/tree/updater_prune.cc:74: tree pruning end, 1 roots, 16 extra nodes, 10 pruned nodes, max_depth=8\u001b[0m\n",
      "\u001b[34m[131]#011train-rmse:0.244332#011validation-rmse:0.313471\u001b[0m\n",
      "\u001b[34m[15:26:02] src/tree/updater_prune.cc:74: tree pruning end, 1 roots, 24 extra nodes, 20 pruned nodes, max_depth=8\u001b[0m\n",
      "\u001b[34m[132]#011train-rmse:0.243966#011validation-rmse:0.313259\u001b[0m\n",
      "\u001b[34m[15:26:04] src/tree/updater_prune.cc:74: tree pruning end, 1 roots, 22 extra nodes, 10 pruned nodes, max_depth=8\u001b[0m\n",
      "\u001b[34m[133]#011train-rmse:0.243667#011validation-rmse:0.313226\u001b[0m\n",
      "\u001b[34m[15:26:06] src/tree/updater_prune.cc:74: tree pruning end, 1 roots, 32 extra nodes, 16 pruned nodes, max_depth=8\u001b[0m\n",
      "\u001b[34m[134]#011train-rmse:0.243054#011validation-rmse:0.312945\u001b[0m\n",
      "\u001b[34m[15:26:08] src/tree/updater_prune.cc:74: tree pruning end, 1 roots, 20 extra nodes, 10 pruned nodes, max_depth=8\u001b[0m\n",
      "\u001b[34m[135]#011train-rmse:0.242735#011validation-rmse:0.312963\u001b[0m\n",
      "\u001b[34m[15:26:11] src/tree/updater_prune.cc:74: tree pruning end, 1 roots, 30 extra nodes, 18 pruned nodes, max_depth=8\u001b[0m\n",
      "\u001b[34m[136]#011train-rmse:0.242221#011validation-rmse:0.312877\u001b[0m\n",
      "\u001b[34m[15:26:13] src/tree/updater_prune.cc:74: tree pruning end, 1 roots, 22 extra nodes, 8 pruned nodes, max_depth=8\u001b[0m\n",
      "\u001b[34m[137]#011train-rmse:0.241828#011validation-rmse:0.31278\u001b[0m\n",
      "\u001b[34m[15:26:15] src/tree/updater_prune.cc:74: tree pruning end, 1 roots, 22 extra nodes, 10 pruned nodes, max_depth=8\u001b[0m\n",
      "\u001b[34m[138]#011train-rmse:0.241479#011validation-rmse:0.312675\u001b[0m\n",
      "\u001b[34m[15:26:17] src/tree/updater_prune.cc:74: tree pruning end, 1 roots, 20 extra nodes, 34 pruned nodes, max_depth=8\u001b[0m\n",
      "\u001b[34m[139]#011train-rmse:0.241218#011validation-rmse:0.312568\u001b[0m\n",
      "\u001b[34m[15:26:20] src/tree/updater_prune.cc:74: tree pruning end, 1 roots, 30 extra nodes, 8 pruned nodes, max_depth=8\u001b[0m\n",
      "\u001b[34m[140]#011train-rmse:0.240789#011validation-rmse:0.31244\u001b[0m\n",
      "\u001b[34m[15:26:22] src/tree/updater_prune.cc:74: tree pruning end, 1 roots, 26 extra nodes, 8 pruned nodes, max_depth=8\u001b[0m\n",
      "\u001b[34m[141]#011train-rmse:0.240281#011validation-rmse:0.312325\u001b[0m\n",
      "\u001b[34m[15:26:24] src/tree/updater_prune.cc:74: tree pruning end, 1 roots, 24 extra nodes, 14 pruned nodes, max_depth=8\u001b[0m\n",
      "\u001b[34m[142]#011train-rmse:0.239844#011validation-rmse:0.31226\u001b[0m\n",
      "\u001b[34m[15:26:27] src/tree/updater_prune.cc:74: tree pruning end, 1 roots, 22 extra nodes, 12 pruned nodes, max_depth=8\u001b[0m\n",
      "\u001b[34m[143]#011train-rmse:0.239494#011validation-rmse:0.312156\u001b[0m\n",
      "\u001b[34m[15:26:29] src/tree/updater_prune.cc:74: tree pruning end, 1 roots, 28 extra nodes, 14 pruned nodes, max_depth=8\u001b[0m\n",
      "\u001b[34m[144]#011train-rmse:0.239001#011validation-rmse:0.311989\u001b[0m\n",
      "\u001b[34m[15:26:31] src/tree/updater_prune.cc:74: tree pruning end, 1 roots, 22 extra nodes, 12 pruned nodes, max_depth=8\u001b[0m\n",
      "\u001b[34m[145]#011train-rmse:0.238613#011validation-rmse:0.311849\u001b[0m\n",
      "\u001b[34m[15:26:33] src/tree/updater_prune.cc:74: tree pruning end, 1 roots, 22 extra nodes, 10 pruned nodes, max_depth=8\u001b[0m\n",
      "\u001b[34m[146]#011train-rmse:0.238225#011validation-rmse:0.311896\u001b[0m\n",
      "\u001b[34m[15:26:36] src/tree/updater_prune.cc:74: tree pruning end, 1 roots, 28 extra nodes, 10 pruned nodes, max_depth=8\u001b[0m\n",
      "\u001b[34m[147]#011train-rmse:0.23785#011validation-rmse:0.312059\u001b[0m\n",
      "\u001b[34m[15:26:38] src/tree/updater_prune.cc:74: tree pruning end, 1 roots, 22 extra nodes, 8 pruned nodes, max_depth=8\u001b[0m\n",
      "\u001b[34m[148]#011train-rmse:0.237499#011validation-rmse:0.311774\u001b[0m\n",
      "\u001b[34m[15:26:40] src/tree/updater_prune.cc:74: tree pruning end, 1 roots, 20 extra nodes, 8 pruned nodes, max_depth=8\u001b[0m\n",
      "\u001b[34m[149]#011train-rmse:0.237231#011validation-rmse:0.311741\u001b[0m\n",
      "\u001b[34m[15:26:42] src/tree/updater_prune.cc:74: tree pruning end, 1 roots, 16 extra nodes, 16 pruned nodes, max_depth=8\u001b[0m\n",
      "\u001b[34m[150]#011train-rmse:0.236948#011validation-rmse:0.311599\u001b[0m\n",
      "\u001b[34m[15:26:45] src/tree/updater_prune.cc:74: tree pruning end, 1 roots, 22 extra nodes, 6 pruned nodes, max_depth=8\u001b[0m\n",
      "\u001b[34m[151]#011train-rmse:0.236653#011validation-rmse:0.311504\u001b[0m\n",
      "\u001b[34m[15:26:47] src/tree/updater_prune.cc:74: tree pruning end, 1 roots, 20 extra nodes, 18 pruned nodes, max_depth=8\u001b[0m\n",
      "\u001b[34m[152]#011train-rmse:0.236409#011validation-rmse:0.311375\u001b[0m\n",
      "\u001b[34m[15:26:49] src/tree/updater_prune.cc:74: tree pruning end, 1 roots, 16 extra nodes, 6 pruned nodes, max_depth=8\u001b[0m\n",
      "\u001b[34m[153]#011train-rmse:0.236169#011validation-rmse:0.311334\u001b[0m\n",
      "\u001b[34m[15:26:51] src/tree/updater_prune.cc:74: tree pruning end, 1 roots, 26 extra nodes, 0 pruned nodes, max_depth=8\u001b[0m\n",
      "\u001b[34m[154]#011train-rmse:0.235706#011validation-rmse:0.311526\u001b[0m\n",
      "\u001b[34m[15:26:54] src/tree/updater_prune.cc:74: tree pruning end, 1 roots, 18 extra nodes, 6 pruned nodes, max_depth=8\u001b[0m\n",
      "\u001b[34m[155]#011train-rmse:0.235429#011validation-rmse:0.311449\u001b[0m\n",
      "\u001b[34m[15:26:56] src/tree/updater_prune.cc:74: tree pruning end, 1 roots, 18 extra nodes, 6 pruned nodes, max_depth=8\u001b[0m\n",
      "\u001b[34m[156]#011train-rmse:0.235145#011validation-rmse:0.311374\u001b[0m\n",
      "\u001b[34m[15:26:58] src/tree/updater_prune.cc:74: tree pruning end, 1 roots, 22 extra nodes, 22 pruned nodes, max_depth=8\u001b[0m\n",
      "\u001b[34m[157]#011train-rmse:0.234832#011validation-rmse:0.311231\u001b[0m\n",
      "\u001b[34m[15:27:01] src/tree/updater_prune.cc:74: tree pruning end, 1 roots, 24 extra nodes, 6 pruned nodes, max_depth=8\u001b[0m\n",
      "\u001b[34m[158]#011train-rmse:0.2345#011validation-rmse:0.31108\u001b[0m\n",
      "\u001b[34m[15:27:03] src/tree/updater_prune.cc:74: tree pruning end, 1 roots, 46 extra nodes, 14 pruned nodes, max_depth=8\u001b[0m\n",
      "\u001b[34m[159]#011train-rmse:0.233627#011validation-rmse:0.31118\u001b[0m\n",
      "\u001b[34m[15:27:05] src/tree/updater_prune.cc:74: tree pruning end, 1 roots, 18 extra nodes, 14 pruned nodes, max_depth=8\u001b[0m\n",
      "\u001b[34m[160]#011train-rmse:0.233372#011validation-rmse:0.311196\u001b[0m\n",
      "\u001b[34m[15:27:07] src/tree/updater_prune.cc:74: tree pruning end, 1 roots, 28 extra nodes, 8 pruned nodes, max_depth=8\u001b[0m\n",
      "\u001b[34m[161]#011train-rmse:0.232928#011validation-rmse:0.311115\u001b[0m\n",
      "\u001b[34m[15:27:10] src/tree/updater_prune.cc:74: tree pruning end, 1 roots, 20 extra nodes, 14 pruned nodes, max_depth=8\u001b[0m\n",
      "\u001b[34m[162]#011train-rmse:0.232725#011validation-rmse:0.311123\u001b[0m\n",
      "\u001b[34m[15:27:12] src/tree/updater_prune.cc:74: tree pruning end, 1 roots, 32 extra nodes, 20 pruned nodes, max_depth=8\u001b[0m\n",
      "\u001b[34m[163]#011train-rmse:0.232131#011validation-rmse:0.311068\u001b[0m\n",
      "\u001b[34m[15:27:14] src/tree/updater_prune.cc:74: tree pruning end, 1 roots, 30 extra nodes, 18 pruned nodes, max_depth=8\u001b[0m\n",
      "\u001b[34m[164]#011train-rmse:0.231687#011validation-rmse:0.310979\u001b[0m\n",
      "\u001b[34m[15:27:16] src/tree/updater_prune.cc:74: tree pruning end, 1 roots, 28 extra nodes, 16 pruned nodes, max_depth=8\u001b[0m\n",
      "\u001b[34m[165]#011train-rmse:0.231231#011validation-rmse:0.311045\u001b[0m\n",
      "\u001b[34m[15:27:19] src/tree/updater_prune.cc:74: tree pruning end, 1 roots, 18 extra nodes, 12 pruned nodes, max_depth=8\u001b[0m\n",
      "\u001b[34m[166]#011train-rmse:0.230996#011validation-rmse:0.310928\u001b[0m\n",
      "\u001b[34m[15:27:21] src/tree/updater_prune.cc:74: tree pruning end, 1 roots, 22 extra nodes, 6 pruned nodes, max_depth=8\u001b[0m\n",
      "\u001b[34m[167]#011train-rmse:0.230734#011validation-rmse:0.310797\u001b[0m\n",
      "\u001b[34m[15:27:23] src/tree/updater_prune.cc:74: tree pruning end, 1 roots, 16 extra nodes, 12 pruned nodes, max_depth=8\u001b[0m\n",
      "\u001b[34m[168]#011train-rmse:0.230529#011validation-rmse:0.310819\u001b[0m\n",
      "\u001b[34m[15:27:25] src/tree/updater_prune.cc:74: tree pruning end, 1 roots, 40 extra nodes, 14 pruned nodes, max_depth=8\u001b[0m\n",
      "\u001b[34m[169]#011train-rmse:0.229838#011validation-rmse:0.310621\u001b[0m\n",
      "\u001b[34m[15:27:28] src/tree/updater_prune.cc:74: tree pruning end, 1 roots, 24 extra nodes, 8 pruned nodes, max_depth=8\u001b[0m\n",
      "\u001b[34m[170]#011train-rmse:0.229487#011validation-rmse:0.310518\u001b[0m\n",
      "\u001b[34m[15:27:30] src/tree/updater_prune.cc:74: tree pruning end, 1 roots, 16 extra nodes, 6 pruned nodes, max_depth=8\u001b[0m\n",
      "\u001b[34m[171]#011train-rmse:0.229265#011validation-rmse:0.310568\u001b[0m\n",
      "\u001b[34m[15:27:32] src/tree/updater_prune.cc:74: tree pruning end, 1 roots, 20 extra nodes, 12 pruned nodes, max_depth=8\u001b[0m\n",
      "\u001b[34m[172]#011train-rmse:0.228885#011validation-rmse:0.310595\u001b[0m\n",
      "\u001b[34m[15:27:34] src/tree/updater_prune.cc:74: tree pruning end, 1 roots, 22 extra nodes, 6 pruned nodes, max_depth=8\u001b[0m\n",
      "\u001b[34m[173]#011train-rmse:0.228595#011validation-rmse:0.310291\u001b[0m\n",
      "\u001b[34m[15:27:37] src/tree/updater_prune.cc:74: tree pruning end, 1 roots, 24 extra nodes, 8 pruned nodes, max_depth=8\u001b[0m\n",
      "\u001b[34m[174]#011train-rmse:0.228155#011validation-rmse:0.310163\u001b[0m\n",
      "\u001b[34m[15:27:39] src/tree/updater_prune.cc:74: tree pruning end, 1 roots, 22 extra nodes, 6 pruned nodes, max_depth=8\u001b[0m\n",
      "\u001b[34m[175]#011train-rmse:0.227883#011validation-rmse:0.31006\u001b[0m\n",
      "\u001b[34m[15:27:41] src/tree/updater_prune.cc:74: tree pruning end, 1 roots, 24 extra nodes, 14 pruned nodes, max_depth=8\u001b[0m\n",
      "\u001b[34m[176]#011train-rmse:0.22748#011validation-rmse:0.309892\u001b[0m\n",
      "\u001b[34m[15:27:43] src/tree/updater_prune.cc:74: tree pruning end, 1 roots, 26 extra nodes, 16 pruned nodes, max_depth=8\u001b[0m\n",
      "\u001b[34m[177]#011train-rmse:0.227077#011validation-rmse:0.310059\u001b[0m\n",
      "\u001b[34m[15:27:46] src/tree/updater_prune.cc:74: tree pruning end, 1 roots, 16 extra nodes, 12 pruned nodes, max_depth=8\u001b[0m\n",
      "\u001b[34m[178]#011train-rmse:0.226881#011validation-rmse:0.309959\u001b[0m\n",
      "\u001b[34m[15:27:48] src/tree/updater_prune.cc:74: tree pruning end, 1 roots, 16 extra nodes, 10 pruned nodes, max_depth=8\u001b[0m\n",
      "\u001b[34m[179]#011train-rmse:0.2266#011validation-rmse:0.309758\u001b[0m\n",
      "\u001b[34m[15:27:50] src/tree/updater_prune.cc:74: tree pruning end, 1 roots, 32 extra nodes, 22 pruned nodes, max_depth=8\u001b[0m\n",
      "\u001b[34m[180]#011train-rmse:0.226106#011validation-rmse:0.309752\u001b[0m\n",
      "\u001b[34m[15:27:52] src/tree/updater_prune.cc:74: tree pruning end, 1 roots, 18 extra nodes, 6 pruned nodes, max_depth=8\u001b[0m\n",
      "\u001b[34m[181]#011train-rmse:0.2259#011validation-rmse:0.309799\u001b[0m\n",
      "\u001b[34m[15:27:55] src/tree/updater_prune.cc:74: tree pruning end, 1 roots, 36 extra nodes, 16 pruned nodes, max_depth=8\u001b[0m\n",
      "\u001b[34m[182]#011train-rmse:0.225325#011validation-rmse:0.309697\u001b[0m\n",
      "\u001b[34m[15:27:57] src/tree/updater_prune.cc:74: tree pruning end, 1 roots, 24 extra nodes, 14 pruned nodes, max_depth=8\u001b[0m\n",
      "\u001b[34m[183]#011train-rmse:0.224983#011validation-rmse:0.309701\u001b[0m\n",
      "\u001b[34m[15:27:59] src/tree/updater_prune.cc:74: tree pruning end, 1 roots, 22 extra nodes, 8 pruned nodes, max_depth=8\u001b[0m\n",
      "\u001b[34m[184]#011train-rmse:0.224693#011validation-rmse:0.309624\u001b[0m\n",
      "\u001b[34m[15:28:01] src/tree/updater_prune.cc:74: tree pruning end, 1 roots, 16 extra nodes, 2 pruned nodes, max_depth=8\u001b[0m\n",
      "\u001b[34m[185]#011train-rmse:0.224482#011validation-rmse:0.309717\u001b[0m\n",
      "\u001b[34m[15:28:04] src/tree/updater_prune.cc:74: tree pruning end, 1 roots, 16 extra nodes, 10 pruned nodes, max_depth=8\u001b[0m\n",
      "\u001b[34m[186]#011train-rmse:0.224274#011validation-rmse:0.309663\u001b[0m\n",
      "\u001b[34m[15:28:06] src/tree/updater_prune.cc:74: tree pruning end, 1 roots, 22 extra nodes, 6 pruned nodes, max_depth=8\u001b[0m\n",
      "\u001b[34m[187]#011train-rmse:0.223948#011validation-rmse:0.309703\u001b[0m\n",
      "\u001b[34m[15:28:08] src/tree/updater_prune.cc:74: tree pruning end, 1 roots, 18 extra nodes, 4 pruned nodes, max_depth=8\u001b[0m\n",
      "\u001b[34m[188]#011train-rmse:0.223658#011validation-rmse:0.309756\u001b[0m\n",
      "\u001b[34m[15:28:10] src/tree/updater_prune.cc:74: tree pruning end, 1 roots, 26 extra nodes, 4 pruned nodes, max_depth=8\u001b[0m\n",
      "\u001b[34m[189]#011train-rmse:0.223231#011validation-rmse:0.309818\u001b[0m\n",
      "\u001b[34m[15:28:13] src/tree/updater_prune.cc:74: tree pruning end, 1 roots, 26 extra nodes, 16 pruned nodes, max_depth=8\u001b[0m\n",
      "\u001b[34m[190]#011train-rmse:0.222948#011validation-rmse:0.30981\u001b[0m\n",
      "\u001b[34m[15:28:15] src/tree/updater_prune.cc:74: tree pruning end, 1 roots, 20 extra nodes, 6 pruned nodes, max_depth=8\u001b[0m\n",
      "\u001b[34m[191]#011train-rmse:0.22271#011validation-rmse:0.309692\u001b[0m\n",
      "\u001b[34m[15:28:17] src/tree/updater_prune.cc:74: tree pruning end, 1 roots, 22 extra nodes, 10 pruned nodes, max_depth=8\u001b[0m\n",
      "\u001b[34m[192]#011train-rmse:0.2224#011validation-rmse:0.30969\u001b[0m\n",
      "\u001b[34m[15:28:19] src/tree/updater_prune.cc:74: tree pruning end, 1 roots, 38 extra nodes, 20 pruned nodes, max_depth=8\u001b[0m\n",
      "\u001b[34m[193]#011train-rmse:0.221872#011validation-rmse:0.309662\u001b[0m\n",
      "\u001b[34m[15:28:22] src/tree/updater_prune.cc:74: tree pruning end, 1 roots, 24 extra nodes, 10 pruned nodes, max_depth=8\u001b[0m\n",
      "\u001b[34m[194]#011train-rmse:0.22149#011validation-rmse:0.309568\u001b[0m\n",
      "\u001b[34m[15:28:24] src/tree/updater_prune.cc:74: tree pruning end, 1 roots, 22 extra nodes, 6 pruned nodes, max_depth=8\u001b[0m\n",
      "\u001b[34m[195]#011train-rmse:0.221245#011validation-rmse:0.309645\u001b[0m\n",
      "\u001b[34m[15:28:26] src/tree/updater_prune.cc:74: tree pruning end, 1 roots, 18 extra nodes, 8 pruned nodes, max_depth=8\u001b[0m\n",
      "\u001b[34m[196]#011train-rmse:0.221009#011validation-rmse:0.309489\u001b[0m\n",
      "\u001b[34m[15:28:28] src/tree/updater_prune.cc:74: tree pruning end, 1 roots, 28 extra nodes, 12 pruned nodes, max_depth=8\u001b[0m\n",
      "\u001b[34m[197]#011train-rmse:0.220671#011validation-rmse:0.309513\u001b[0m\n",
      "\u001b[34m[15:28:31] src/tree/updater_prune.cc:74: tree pruning end, 1 roots, 22 extra nodes, 12 pruned nodes, max_depth=8\u001b[0m\n",
      "\u001b[34m[198]#011train-rmse:0.220474#011validation-rmse:0.309499\u001b[0m\n",
      "\u001b[34m[15:28:33] src/tree/updater_prune.cc:74: tree pruning end, 1 roots, 16 extra nodes, 8 pruned nodes, max_depth=8\u001b[0m\n",
      "\u001b[34m[199]#011train-rmse:0.220352#011validation-rmse:0.309412\u001b[0m\n",
      "Training seconds: 502\n",
      "Billable seconds: 502\n"
     ]
    }
   ],
   "source": [
    "# TODO: Create a new estimator object attached to the best training job found during hyperparameter tuning\n",
    "\n",
    "xgb_attached = sagemaker.estimator.Estimator.attach(xgb_hyperparameter_tuner.best_training_job())\n"
   ]
  },
  {
   "cell_type": "markdown",
   "metadata": {},
   "source": [
    "Now that we have an estimator object attached to the correct training job, we can proceed as we normally would and create a transformer object."
   ]
  },
  {
   "cell_type": "code",
   "execution_count": 26,
   "metadata": {},
   "outputs": [
    {
     "name": "stderr",
     "output_type": "stream",
     "text": [
      "Parameter image will be renamed to image_uri in SageMaker Python SDK v2.\n"
     ]
    }
   ],
   "source": [
    "# TODO: Create a transformer object from the attached estimator. Using an instance count of 1 and an instance type of ml.m4.xlarge\n",
    "#       should be more than enough.\n",
    "\n",
    "xgb_transformer = xgb_attached.transformer(instance_count = 1, instance_type = 'ml.m4.xlarge')\n"
   ]
  },
  {
   "cell_type": "markdown",
   "metadata": {},
   "source": [
    "Next we actually perform the transform job. When doing so we need to make sure to specify the type of data we are sending so that it is serialized correctly in the background. In our case we are providing our model with csv data so we specify `text/csv`. Also, if the test data that we have provided is too large to process all at once then we need to specify how the data file should be split up. Since each line is a single entry in our data set we tell SageMaker that it can split the input on each line."
   ]
  },
  {
   "cell_type": "code",
   "execution_count": 27,
   "metadata": {},
   "outputs": [],
   "source": [
    "# TODO: Start the transform job. Make sure to specify the content type and the split type of the test data.\n",
    "xgb_transformer.transform(test_location, content_type='text/csv', split_type='Line')"
   ]
  },
  {
   "cell_type": "markdown",
   "metadata": {},
   "source": [
    "Currently the transform job is running but it is doing so in the background. Since we wish to wait until the transform job is done and we would like a bit of feedback we can run the `wait()` method."
   ]
  },
  {
   "cell_type": "code",
   "execution_count": 28,
   "metadata": {},
   "outputs": [
    {
     "name": "stdout",
     "output_type": "stream",
     "text": [
      "..............................\u001b[32m2020-09-08T15:35:54.585:[sagemaker logs]: MaxConcurrentTransforms=4, MaxPayloadInMB=6, BatchStrategy=MULTI_RECORD\u001b[0m\n",
      "\u001b[34mArguments: serve\u001b[0m\n",
      "\u001b[34m[2020-09-08 15:35:54 +0000] [1] [INFO] Starting gunicorn 19.7.1\u001b[0m\n",
      "\u001b[34m[2020-09-08 15:35:54 +0000] [1] [INFO] Listening at: http://0.0.0.0:8080 (1)\u001b[0m\n",
      "\u001b[34m[2020-09-08 15:35:54 +0000] [1] [INFO] Using worker: gevent\u001b[0m\n",
      "\u001b[34m[2020-09-08 15:35:54 +0000] [37] [INFO] Booting worker with pid: 37\u001b[0m\n",
      "\u001b[34m[2020-09-08 15:35:54 +0000] [38] [INFO] Booting worker with pid: 38\u001b[0m\n",
      "\u001b[35mArguments: serve\u001b[0m\n",
      "\u001b[35m[2020-09-08 15:35:54 +0000] [1] [INFO] Starting gunicorn 19.7.1\u001b[0m\n",
      "\u001b[35m[2020-09-08 15:35:54 +0000] [1] [INFO] Listening at: http://0.0.0.0:8080 (1)\u001b[0m\n",
      "\u001b[35m[2020-09-08 15:35:54 +0000] [1] [INFO] Using worker: gevent\u001b[0m\n",
      "\u001b[35m[2020-09-08 15:35:54 +0000] [37] [INFO] Booting worker with pid: 37\u001b[0m\n",
      "\u001b[35m[2020-09-08 15:35:54 +0000] [38] [INFO] Booting worker with pid: 38\u001b[0m\n",
      "\u001b[34m[2020-09-08 15:35:54 +0000] [39] [INFO] Booting worker with pid: 39\u001b[0m\n",
      "\u001b[34m[2020-09-08 15:35:54 +0000] [40] [INFO] Booting worker with pid: 40\u001b[0m\n",
      "\u001b[34m[2020-09-08:15:35:54:INFO] Model loaded successfully for worker : 37\u001b[0m\n",
      "\u001b[34m[2020-09-08:15:35:54:INFO] Model loaded successfully for worker : 38\u001b[0m\n",
      "\u001b[34m[2020-09-08:15:35:54:INFO] Model loaded successfully for worker : 39\u001b[0m\n",
      "\u001b[34m[2020-09-08:15:35:54:INFO] Model loaded successfully for worker : 40\u001b[0m\n",
      "\u001b[34m[2020-09-08:15:35:54:INFO] Sniff delimiter as ','\u001b[0m\n",
      "\u001b[34m[2020-09-08:15:35:54:INFO] Determined delimiter of CSV input is ','\u001b[0m\n",
      "\u001b[34m[2020-09-08:15:35:54:INFO] Sniff delimiter as ','\u001b[0m\n",
      "\u001b[34m[2020-09-08:15:35:54:INFO] Determined delimiter of CSV input is ','\u001b[0m\n",
      "\u001b[34m[2020-09-08:15:35:55:INFO] Sniff delimiter as ','\u001b[0m\n",
      "\u001b[35m[2020-09-08 15:35:54 +0000] [39] [INFO] Booting worker with pid: 39\u001b[0m\n",
      "\u001b[35m[2020-09-08 15:35:54 +0000] [40] [INFO] Booting worker with pid: 40\u001b[0m\n",
      "\u001b[35m[2020-09-08:15:35:54:INFO] Model loaded successfully for worker : 37\u001b[0m\n",
      "\u001b[35m[2020-09-08:15:35:54:INFO] Model loaded successfully for worker : 38\u001b[0m\n",
      "\u001b[35m[2020-09-08:15:35:54:INFO] Model loaded successfully for worker : 39\u001b[0m\n",
      "\u001b[35m[2020-09-08:15:35:54:INFO] Model loaded successfully for worker : 40\u001b[0m\n",
      "\u001b[35m[2020-09-08:15:35:54:INFO] Sniff delimiter as ','\u001b[0m\n",
      "\u001b[35m[2020-09-08:15:35:54:INFO] Determined delimiter of CSV input is ','\u001b[0m\n",
      "\u001b[35m[2020-09-08:15:35:54:INFO] Sniff delimiter as ','\u001b[0m\n",
      "\u001b[35m[2020-09-08:15:35:54:INFO] Determined delimiter of CSV input is ','\u001b[0m\n",
      "\u001b[35m[2020-09-08:15:35:55:INFO] Sniff delimiter as ','\u001b[0m\n",
      "\u001b[34m[2020-09-08:15:35:55:INFO] Determined delimiter of CSV input is ','\u001b[0m\n",
      "\u001b[34m[2020-09-08:15:35:55:INFO] Sniff delimiter as ','\u001b[0m\n",
      "\u001b[34m[2020-09-08:15:35:55:INFO] Determined delimiter of CSV input is ','\u001b[0m\n",
      "\u001b[34m[2020-09-08:15:35:57:INFO] Sniff delimiter as ','\u001b[0m\n",
      "\u001b[34m[2020-09-08:15:35:57:INFO] Determined delimiter of CSV input is ','\u001b[0m\n",
      "\u001b[34m[2020-09-08:15:35:57:INFO] Sniff delimiter as ','\u001b[0m\n",
      "\u001b[34m[2020-09-08:15:35:57:INFO] Determined delimiter of CSV input is ','\u001b[0m\n",
      "\u001b[34m[2020-09-08:15:35:57:INFO] Sniff delimiter as ','\u001b[0m\n",
      "\u001b[34m[2020-09-08:15:35:57:INFO] Determined delimiter of CSV input is ','\u001b[0m\n",
      "\u001b[34m[2020-09-08:15:35:57:INFO] Sniff delimiter as ','\u001b[0m\n",
      "\u001b[34m[2020-09-08:15:35:57:INFO] Determined delimiter of CSV input is ','\u001b[0m\n",
      "\u001b[35m[2020-09-08:15:35:55:INFO] Determined delimiter of CSV input is ','\u001b[0m\n",
      "\u001b[35m[2020-09-08:15:35:55:INFO] Sniff delimiter as ','\u001b[0m\n",
      "\u001b[35m[2020-09-08:15:35:55:INFO] Determined delimiter of CSV input is ','\u001b[0m\n",
      "\u001b[35m[2020-09-08:15:35:57:INFO] Sniff delimiter as ','\u001b[0m\n",
      "\u001b[35m[2020-09-08:15:35:57:INFO] Determined delimiter of CSV input is ','\u001b[0m\n",
      "\u001b[35m[2020-09-08:15:35:57:INFO] Sniff delimiter as ','\u001b[0m\n",
      "\u001b[35m[2020-09-08:15:35:57:INFO] Determined delimiter of CSV input is ','\u001b[0m\n",
      "\u001b[35m[2020-09-08:15:35:57:INFO] Sniff delimiter as ','\u001b[0m\n",
      "\u001b[35m[2020-09-08:15:35:57:INFO] Determined delimiter of CSV input is ','\u001b[0m\n",
      "\u001b[35m[2020-09-08:15:35:57:INFO] Sniff delimiter as ','\u001b[0m\n",
      "\u001b[35m[2020-09-08:15:35:57:INFO] Determined delimiter of CSV input is ','\u001b[0m\n",
      "\u001b[34m[2020-09-08:15:35:59:INFO] Sniff delimiter as ','\u001b[0m\n",
      "\u001b[34m[2020-09-08:15:35:59:INFO] Determined delimiter of CSV input is ','\u001b[0m\n",
      "\u001b[34m[2020-09-08:15:35:59:INFO] Sniff delimiter as ','\u001b[0m\n",
      "\u001b[34m[2020-09-08:15:35:59:INFO] Determined delimiter of CSV input is ','\u001b[0m\n",
      "\u001b[34m[2020-09-08:15:36:00:INFO] Sniff delimiter as ','\u001b[0m\n",
      "\u001b[34m[2020-09-08:15:36:00:INFO] Determined delimiter of CSV input is ','\u001b[0m\n",
      "\u001b[35m[2020-09-08:15:35:59:INFO] Sniff delimiter as ','\u001b[0m\n",
      "\u001b[35m[2020-09-08:15:35:59:INFO] Determined delimiter of CSV input is ','\u001b[0m\n",
      "\u001b[35m[2020-09-08:15:35:59:INFO] Sniff delimiter as ','\u001b[0m\n",
      "\u001b[35m[2020-09-08:15:35:59:INFO] Determined delimiter of CSV input is ','\u001b[0m\n",
      "\u001b[35m[2020-09-08:15:36:00:INFO] Sniff delimiter as ','\u001b[0m\n",
      "\u001b[35m[2020-09-08:15:36:00:INFO] Determined delimiter of CSV input is ','\u001b[0m\n",
      "\u001b[34m[2020-09-08:15:36:00:INFO] Sniff delimiter as ','\u001b[0m\n",
      "\u001b[34m[2020-09-08:15:36:00:INFO] Determined delimiter of CSV input is ','\u001b[0m\n",
      "\u001b[35m[2020-09-08:15:36:00:INFO] Sniff delimiter as ','\u001b[0m\n",
      "\u001b[35m[2020-09-08:15:36:00:INFO] Determined delimiter of CSV input is ','\u001b[0m\n",
      "\u001b[34m[2020-09-08:15:36:02:INFO] Sniff delimiter as ','\u001b[0m\n",
      "\u001b[34m[2020-09-08:15:36:02:INFO] Determined delimiter of CSV input is ','\u001b[0m\n",
      "\u001b[34m[2020-09-08:15:36:02:INFO] Sniff delimiter as ','\u001b[0m\n",
      "\u001b[34m[2020-09-08:15:36:02:INFO] Determined delimiter of CSV input is ','\u001b[0m\n",
      "\u001b[34m[2020-09-08:15:36:02:INFO] Sniff delimiter as ','\u001b[0m\n",
      "\u001b[34m[2020-09-08:15:36:02:INFO] Determined delimiter of CSV input is ','\u001b[0m\n",
      "\u001b[34m[2020-09-08:15:36:02:INFO] Sniff delimiter as ','\u001b[0m\n",
      "\u001b[34m[2020-09-08:15:36:02:INFO] Determined delimiter of CSV input is ','\u001b[0m\n",
      "\u001b[35m[2020-09-08:15:36:02:INFO] Sniff delimiter as ','\u001b[0m\n",
      "\u001b[35m[2020-09-08:15:36:02:INFO] Determined delimiter of CSV input is ','\u001b[0m\n",
      "\u001b[35m[2020-09-08:15:36:02:INFO] Sniff delimiter as ','\u001b[0m\n",
      "\u001b[35m[2020-09-08:15:36:02:INFO] Determined delimiter of CSV input is ','\u001b[0m\n",
      "\u001b[35m[2020-09-08:15:36:02:INFO] Sniff delimiter as ','\u001b[0m\n",
      "\u001b[35m[2020-09-08:15:36:02:INFO] Determined delimiter of CSV input is ','\u001b[0m\n",
      "\u001b[35m[2020-09-08:15:36:02:INFO] Sniff delimiter as ','\u001b[0m\n",
      "\u001b[35m[2020-09-08:15:36:02:INFO] Determined delimiter of CSV input is ','\u001b[0m\n",
      "\u001b[34m[2020-09-08:15:36:04:INFO] Sniff delimiter as ','\u001b[0m\n",
      "\u001b[34m[2020-09-08:15:36:04:INFO] Determined delimiter of CSV input is ','\u001b[0m\n",
      "\u001b[34m[2020-09-08:15:36:04:INFO] Sniff delimiter as ','\u001b[0m\n",
      "\u001b[34m[2020-09-08:15:36:04:INFO] Determined delimiter of CSV input is ','\u001b[0m\n",
      "\u001b[34m[2020-09-08:15:36:04:INFO] Sniff delimiter as ','\u001b[0m\n",
      "\u001b[34m[2020-09-08:15:36:04:INFO] Determined delimiter of CSV input is ','\u001b[0m\n",
      "\u001b[34m[2020-09-08:15:36:05:INFO] Sniff delimiter as ','\u001b[0m\n",
      "\u001b[34m[2020-09-08:15:36:05:INFO] Determined delimiter of CSV input is ','\u001b[0m\n",
      "\u001b[35m[2020-09-08:15:36:04:INFO] Sniff delimiter as ','\u001b[0m\n",
      "\u001b[35m[2020-09-08:15:36:04:INFO] Determined delimiter of CSV input is ','\u001b[0m\n",
      "\u001b[35m[2020-09-08:15:36:04:INFO] Sniff delimiter as ','\u001b[0m\n",
      "\u001b[35m[2020-09-08:15:36:04:INFO] Determined delimiter of CSV input is ','\u001b[0m\n",
      "\u001b[35m[2020-09-08:15:36:04:INFO] Sniff delimiter as ','\u001b[0m\n",
      "\u001b[35m[2020-09-08:15:36:04:INFO] Determined delimiter of CSV input is ','\u001b[0m\n",
      "\u001b[35m[2020-09-08:15:36:05:INFO] Sniff delimiter as ','\u001b[0m\n",
      "\u001b[35m[2020-09-08:15:36:05:INFO] Determined delimiter of CSV input is ','\u001b[0m\n",
      "\u001b[34m[2020-09-08:15:36:09:INFO] Sniff delimiter as ','\u001b[0m\n",
      "\u001b[35m[2020-09-08:15:36:09:INFO] Sniff delimiter as ','\u001b[0m\n",
      "\u001b[34m[2020-09-08:15:36:09:INFO] Determined delimiter of CSV input is ','\u001b[0m\n",
      "\u001b[34m[2020-09-08:15:36:09:INFO] Sniff delimiter as ','\u001b[0m\n",
      "\u001b[34m[2020-09-08:15:36:09:INFO] Determined delimiter of CSV input is ','\u001b[0m\n",
      "\u001b[34m[2020-09-08:15:36:09:INFO] Sniff delimiter as ','\u001b[0m\n",
      "\u001b[34m[2020-09-08:15:36:09:INFO] Determined delimiter of CSV input is ','\u001b[0m\n",
      "\u001b[34m[2020-09-08:15:36:10:INFO] Sniff delimiter as ','\u001b[0m\n",
      "\u001b[34m[2020-09-08:15:36:10:INFO] Determined delimiter of CSV input is ','\u001b[0m\n",
      "\u001b[35m[2020-09-08:15:36:09:INFO] Determined delimiter of CSV input is ','\u001b[0m\n",
      "\u001b[35m[2020-09-08:15:36:09:INFO] Sniff delimiter as ','\u001b[0m\n",
      "\u001b[35m[2020-09-08:15:36:09:INFO] Determined delimiter of CSV input is ','\u001b[0m\n",
      "\u001b[35m[2020-09-08:15:36:09:INFO] Sniff delimiter as ','\u001b[0m\n",
      "\u001b[35m[2020-09-08:15:36:09:INFO] Determined delimiter of CSV input is ','\u001b[0m\n",
      "\u001b[35m[2020-09-08:15:36:10:INFO] Sniff delimiter as ','\u001b[0m\n",
      "\u001b[35m[2020-09-08:15:36:10:INFO] Determined delimiter of CSV input is ','\u001b[0m\n",
      "\u001b[34m[2020-09-08:15:36:12:INFO] Sniff delimiter as ','\u001b[0m\n",
      "\u001b[34m[2020-09-08:15:36:12:INFO] Determined delimiter of CSV input is ','\u001b[0m\n",
      "\u001b[35m[2020-09-08:15:36:12:INFO] Sniff delimiter as ','\u001b[0m\n",
      "\u001b[35m[2020-09-08:15:36:12:INFO] Determined delimiter of CSV input is ','\u001b[0m\n",
      "\u001b[34m[2020-09-08:15:36:12:INFO] Sniff delimiter as ','\u001b[0m\n",
      "\u001b[34m[2020-09-08:15:36:12:INFO] Determined delimiter of CSV input is ','\u001b[0m\n",
      "\u001b[34m[2020-09-08:15:36:12:INFO] Sniff delimiter as ','\u001b[0m\n",
      "\u001b[34m[2020-09-08:15:36:12:INFO] Determined delimiter of CSV input is ','\u001b[0m\n",
      "\u001b[34m[2020-09-08:15:36:12:INFO] Sniff delimiter as ','\u001b[0m\n",
      "\u001b[34m[2020-09-08:15:36:12:INFO] Determined delimiter of CSV input is ','\u001b[0m\n",
      "\u001b[35m[2020-09-08:15:36:12:INFO] Sniff delimiter as ','\u001b[0m\n",
      "\u001b[35m[2020-09-08:15:36:12:INFO] Determined delimiter of CSV input is ','\u001b[0m\n",
      "\u001b[35m[2020-09-08:15:36:12:INFO] Sniff delimiter as ','\u001b[0m\n",
      "\u001b[35m[2020-09-08:15:36:12:INFO] Determined delimiter of CSV input is ','\u001b[0m\n",
      "\u001b[35m[2020-09-08:15:36:12:INFO] Sniff delimiter as ','\u001b[0m\n",
      "\u001b[35m[2020-09-08:15:36:12:INFO] Determined delimiter of CSV input is ','\u001b[0m\n",
      "\u001b[34m[2020-09-08:15:36:14:INFO] Sniff delimiter as ','\u001b[0m\n",
      "\u001b[34m[2020-09-08:15:36:14:INFO] Determined delimiter of CSV input is ','\u001b[0m\n",
      "\u001b[34m[2020-09-08:15:36:14:INFO] Sniff delimiter as ','\u001b[0m\n",
      "\u001b[34m[2020-09-08:15:36:14:INFO] Determined delimiter of CSV input is ','\u001b[0m\n",
      "\u001b[34m[2020-09-08:15:36:14:INFO] Sniff delimiter as ','\u001b[0m\n",
      "\u001b[34m[2020-09-08:15:36:14:INFO] Determined delimiter of CSV input is ','\u001b[0m\n",
      "\u001b[35m[2020-09-08:15:36:14:INFO] Sniff delimiter as ','\u001b[0m\n",
      "\u001b[35m[2020-09-08:15:36:14:INFO] Determined delimiter of CSV input is ','\u001b[0m\n",
      "\u001b[35m[2020-09-08:15:36:14:INFO] Sniff delimiter as ','\u001b[0m\n",
      "\u001b[35m[2020-09-08:15:36:14:INFO] Determined delimiter of CSV input is ','\u001b[0m\n",
      "\u001b[35m[2020-09-08:15:36:14:INFO] Sniff delimiter as ','\u001b[0m\n",
      "\u001b[35m[2020-09-08:15:36:14:INFO] Determined delimiter of CSV input is ','\u001b[0m\n",
      "\u001b[34m[2020-09-08:15:36:14:INFO] Sniff delimiter as ','\u001b[0m\n",
      "\u001b[34m[2020-09-08:15:36:14:INFO] Determined delimiter of CSV input is ','\u001b[0m\n",
      "\u001b[35m[2020-09-08:15:36:14:INFO] Sniff delimiter as ','\u001b[0m\n",
      "\u001b[35m[2020-09-08:15:36:14:INFO] Determined delimiter of CSV input is ','\u001b[0m\n",
      "\u001b[34m[2020-09-08:15:36:17:INFO] Sniff delimiter as ','\u001b[0m\n",
      "\u001b[34m[2020-09-08:15:36:17:INFO] Determined delimiter of CSV input is ','\u001b[0m\n",
      "\u001b[35m[2020-09-08:15:36:17:INFO] Sniff delimiter as ','\u001b[0m\n",
      "\u001b[35m[2020-09-08:15:36:17:INFO] Determined delimiter of CSV input is ','\u001b[0m\n",
      "\u001b[34m[2020-09-08:15:36:17:INFO] Sniff delimiter as ','\u001b[0m\n",
      "\u001b[34m[2020-09-08:15:36:17:INFO] Determined delimiter of CSV input is ','\u001b[0m\n",
      "\u001b[34m[2020-09-08:15:36:17:INFO] Sniff delimiter as ','\u001b[0m\n",
      "\u001b[34m[2020-09-08:15:36:17:INFO] Determined delimiter of CSV input is ','\u001b[0m\n",
      "\u001b[35m[2020-09-08:15:36:17:INFO] Sniff delimiter as ','\u001b[0m\n",
      "\u001b[35m[2020-09-08:15:36:17:INFO] Determined delimiter of CSV input is ','\u001b[0m\n",
      "\u001b[35m[2020-09-08:15:36:17:INFO] Sniff delimiter as ','\u001b[0m\n",
      "\u001b[35m[2020-09-08:15:36:17:INFO] Determined delimiter of CSV input is ','\u001b[0m\n",
      "\u001b[34m[2020-09-08:15:36:17:INFO] Sniff delimiter as ','\u001b[0m\n",
      "\u001b[34m[2020-09-08:15:36:17:INFO] Determined delimiter of CSV input is ','\u001b[0m\n",
      "\u001b[35m[2020-09-08:15:36:17:INFO] Sniff delimiter as ','\u001b[0m\n",
      "\u001b[35m[2020-09-08:15:36:17:INFO] Determined delimiter of CSV input is ','\u001b[0m\n",
      "\n"
     ]
    }
   ],
   "source": [
    "xgb_transformer.wait()"
   ]
  },
  {
   "cell_type": "markdown",
   "metadata": {},
   "source": [
    "Now the transform job has executed and the result, the estimated sentiment of each review, has been saved on S3. Since we would rather work on this file locally we can perform a bit of notebook magic to copy the file to the `data_dir`."
   ]
  },
  {
   "cell_type": "code",
   "execution_count": 29,
   "metadata": {},
   "outputs": [
    {
     "name": "stdout",
     "output_type": "stream",
     "text": [
      "download: s3://sagemaker-eu-central-1-056031859741/xgboost-200908-1512-004-5d6f6faf-2020-09-08-15-31-12-150/test.csv.out to ../data/xgboost/test.csv.out\r\n"
     ]
    }
   ],
   "source": [
    "!aws s3 cp --recursive $xgb_transformer.output_path $data_dir"
   ]
  },
  {
   "cell_type": "markdown",
   "metadata": {},
   "source": [
    "The last step is now to read in the output from our model, convert the output to something a little more usable, in this case we want the sentiment to be either `1` (positive) or `0` (negative), and then compare to the ground truth labels."
   ]
  },
  {
   "cell_type": "code",
   "execution_count": 30,
   "metadata": {},
   "outputs": [],
   "source": [
    "predictions = pd.read_csv(os.path.join(data_dir, 'test.csv.out'), header=None)\n",
    "predictions = [round(num) for num in predictions.squeeze().values]"
   ]
  },
  {
   "cell_type": "code",
   "execution_count": 31,
   "metadata": {},
   "outputs": [
    {
     "data": {
      "text/plain": [
       "0.86828"
      ]
     },
     "execution_count": 31,
     "metadata": {},
     "output_type": "execute_result"
    }
   ],
   "source": [
    "from sklearn.metrics import accuracy_score\n",
    "accuracy_score(test_y, predictions)"
   ]
  },
  {
   "cell_type": "markdown",
   "metadata": {},
   "source": [
    "## Optional: Clean up\n",
    "\n",
    "The default notebook instance on SageMaker doesn't have a lot of excess disk space available. As you continue to complete and execute notebooks you will eventually fill up this disk space, leading to errors which can be difficult to diagnose. Once you are completely finished using a notebook it is a good idea to remove the files that you created along the way. Of course, you can do this from the terminal or from the notebook hub if you would like. The cell below contains some commands to clean up the created files from within the notebook."
   ]
  },
  {
   "cell_type": "code",
   "execution_count": 32,
   "metadata": {},
   "outputs": [],
   "source": [
    "# First we will remove all of the files contained in the data_dir directory\n",
    "!rm $data_dir/*\n",
    "\n",
    "# And then we delete the directory itself\n",
    "!rmdir $data_dir\n",
    "\n",
    "# Similarly we will remove the files in the cache_dir directory and the directory itself\n",
    "!rm $cache_dir/*\n",
    "!rmdir $cache_dir"
   ]
  },
  {
   "cell_type": "code",
   "execution_count": null,
   "metadata": {},
   "outputs": [],
   "source": []
  }
 ],
 "metadata": {
  "kernelspec": {
   "display_name": "conda_python3",
   "language": "python",
   "name": "conda_python3"
  },
  "language_info": {
   "codemirror_mode": {
    "name": "ipython",
    "version": 3
   },
   "file_extension": ".py",
   "mimetype": "text/x-python",
   "name": "python",
   "nbconvert_exporter": "python",
   "pygments_lexer": "ipython3",
   "version": "3.6.10"
  }
 },
 "nbformat": 4,
 "nbformat_minor": 2
}
